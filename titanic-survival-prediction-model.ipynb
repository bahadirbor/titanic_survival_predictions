{
 "cells": [
  {
   "cell_type": "markdown",
   "id": "21281b75",
   "metadata": {
    "papermill": {
     "duration": 0.008071,
     "end_time": "2025-05-26T20:56:11.108530",
     "exception": false,
     "start_time": "2025-05-26T20:56:11.100459",
     "status": "completed"
    },
    "tags": []
   },
   "source": [
    "## Titanic Competition with Neural Networks"
   ]
  },
  {
   "cell_type": "markdown",
   "id": "b60b6ebd",
   "metadata": {
    "papermill": {
     "duration": 0.007595,
     "end_time": "2025-05-26T20:56:11.123743",
     "exception": false,
     "start_time": "2025-05-26T20:56:11.116148",
     "status": "completed"
    },
    "tags": []
   },
   "source": [
    "Imported libraries and train, test datas"
   ]
  },
  {
   "cell_type": "code",
   "execution_count": 1,
   "id": "61dbc373",
   "metadata": {
    "_cell_guid": "b1076dfc-b9ad-4769-8c92-a6c4dae69d19",
    "_uuid": "8f2839f25d086af736a60e9eeb907d3b93b6e0e5",
    "execution": {
     "iopub.execute_input": "2025-05-26T20:56:11.140792Z",
     "iopub.status.busy": "2025-05-26T20:56:11.140279Z",
     "iopub.status.idle": "2025-05-26T20:56:32.509101Z",
     "shell.execute_reply": "2025-05-26T20:56:32.507645Z"
    },
    "papermill": {
     "duration": 21.37958,
     "end_time": "2025-05-26T20:56:32.511359",
     "exception": false,
     "start_time": "2025-05-26T20:56:11.131779",
     "status": "completed"
    },
    "tags": []
   },
   "outputs": [
    {
     "name": "stdout",
     "output_type": "stream",
     "text": [
      "/kaggle/input/titanic/train.csv\n",
      "/kaggle/input/titanic/test.csv\n",
      "/kaggle/input/titanic/gender_submission.csv\n"
     ]
    }
   ],
   "source": [
    "import numpy as np\n",
    "import pandas as pd\n",
    "from tensorflow.keras.models import Sequential\n",
    "from tensorflow.keras.layers import Dense,Dropout\n",
    "from sklearn.model_selection import train_test_split\n",
    "from sklearn.preprocessing import RobustScaler, LabelEncoder\n",
    "import os\n",
    "\n",
    "for dirname, _, filenames in os.walk('/kaggle/input'):\n",
    "    for filename in filenames:\n",
    "        print(os.path.join(dirname, filename))"
   ]
  },
  {
   "cell_type": "markdown",
   "id": "42c7cf8a",
   "metadata": {
    "papermill": {
     "duration": 0.007208,
     "end_time": "2025-05-26T20:56:32.526822",
     "exception": false,
     "start_time": "2025-05-26T20:56:32.519614",
     "status": "completed"
    },
    "tags": []
   },
   "source": [
    "## Dataset Overview\n",
    "\n",
    "The Titanic dataset contains information about passengers aboard the Titanic, including features like age, sex, passenger class, fare, number of siblings/spouses, number of parents/children aboard, and whether they survived.\n",
    "Our goal is to use this structured data to predict survival outcomes using a neural network model."
   ]
  },
  {
   "cell_type": "code",
   "execution_count": 2,
   "id": "865f9a73",
   "metadata": {
    "execution": {
     "iopub.execute_input": "2025-05-26T20:56:32.543519Z",
     "iopub.status.busy": "2025-05-26T20:56:32.542783Z",
     "iopub.status.idle": "2025-05-26T20:56:32.596146Z",
     "shell.execute_reply": "2025-05-26T20:56:32.594816Z"
    },
    "papermill": {
     "duration": 0.064133,
     "end_time": "2025-05-26T20:56:32.598416",
     "exception": false,
     "start_time": "2025-05-26T20:56:32.534283",
     "status": "completed"
    },
    "tags": []
   },
   "outputs": [
    {
     "data": {
      "text/html": [
       "<div>\n",
       "<style scoped>\n",
       "    .dataframe tbody tr th:only-of-type {\n",
       "        vertical-align: middle;\n",
       "    }\n",
       "\n",
       "    .dataframe tbody tr th {\n",
       "        vertical-align: top;\n",
       "    }\n",
       "\n",
       "    .dataframe thead th {\n",
       "        text-align: right;\n",
       "    }\n",
       "</style>\n",
       "<table border=\"1\" class=\"dataframe\">\n",
       "  <thead>\n",
       "    <tr style=\"text-align: right;\">\n",
       "      <th></th>\n",
       "      <th>PassengerId</th>\n",
       "      <th>Survived</th>\n",
       "      <th>Pclass</th>\n",
       "      <th>Name</th>\n",
       "      <th>Sex</th>\n",
       "      <th>Age</th>\n",
       "      <th>SibSp</th>\n",
       "      <th>Parch</th>\n",
       "      <th>Ticket</th>\n",
       "      <th>Fare</th>\n",
       "      <th>Cabin</th>\n",
       "      <th>Embarked</th>\n",
       "    </tr>\n",
       "  </thead>\n",
       "  <tbody>\n",
       "    <tr>\n",
       "      <th>0</th>\n",
       "      <td>1</td>\n",
       "      <td>0</td>\n",
       "      <td>3</td>\n",
       "      <td>Braund, Mr. Owen Harris</td>\n",
       "      <td>male</td>\n",
       "      <td>22.0</td>\n",
       "      <td>1</td>\n",
       "      <td>0</td>\n",
       "      <td>A/5 21171</td>\n",
       "      <td>7.2500</td>\n",
       "      <td>NaN</td>\n",
       "      <td>S</td>\n",
       "    </tr>\n",
       "    <tr>\n",
       "      <th>1</th>\n",
       "      <td>2</td>\n",
       "      <td>1</td>\n",
       "      <td>1</td>\n",
       "      <td>Cumings, Mrs. John Bradley (Florence Briggs Th...</td>\n",
       "      <td>female</td>\n",
       "      <td>38.0</td>\n",
       "      <td>1</td>\n",
       "      <td>0</td>\n",
       "      <td>PC 17599</td>\n",
       "      <td>71.2833</td>\n",
       "      <td>C85</td>\n",
       "      <td>C</td>\n",
       "    </tr>\n",
       "    <tr>\n",
       "      <th>2</th>\n",
       "      <td>3</td>\n",
       "      <td>1</td>\n",
       "      <td>3</td>\n",
       "      <td>Heikkinen, Miss. Laina</td>\n",
       "      <td>female</td>\n",
       "      <td>26.0</td>\n",
       "      <td>0</td>\n",
       "      <td>0</td>\n",
       "      <td>STON/O2. 3101282</td>\n",
       "      <td>7.9250</td>\n",
       "      <td>NaN</td>\n",
       "      <td>S</td>\n",
       "    </tr>\n",
       "    <tr>\n",
       "      <th>3</th>\n",
       "      <td>4</td>\n",
       "      <td>1</td>\n",
       "      <td>1</td>\n",
       "      <td>Futrelle, Mrs. Jacques Heath (Lily May Peel)</td>\n",
       "      <td>female</td>\n",
       "      <td>35.0</td>\n",
       "      <td>1</td>\n",
       "      <td>0</td>\n",
       "      <td>113803</td>\n",
       "      <td>53.1000</td>\n",
       "      <td>C123</td>\n",
       "      <td>S</td>\n",
       "    </tr>\n",
       "    <tr>\n",
       "      <th>4</th>\n",
       "      <td>5</td>\n",
       "      <td>0</td>\n",
       "      <td>3</td>\n",
       "      <td>Allen, Mr. William Henry</td>\n",
       "      <td>male</td>\n",
       "      <td>35.0</td>\n",
       "      <td>0</td>\n",
       "      <td>0</td>\n",
       "      <td>373450</td>\n",
       "      <td>8.0500</td>\n",
       "      <td>NaN</td>\n",
       "      <td>S</td>\n",
       "    </tr>\n",
       "  </tbody>\n",
       "</table>\n",
       "</div>"
      ],
      "text/plain": [
       "   PassengerId  Survived  Pclass  \\\n",
       "0            1         0       3   \n",
       "1            2         1       1   \n",
       "2            3         1       3   \n",
       "3            4         1       1   \n",
       "4            5         0       3   \n",
       "\n",
       "                                                Name     Sex   Age  SibSp  \\\n",
       "0                            Braund, Mr. Owen Harris    male  22.0      1   \n",
       "1  Cumings, Mrs. John Bradley (Florence Briggs Th...  female  38.0      1   \n",
       "2                             Heikkinen, Miss. Laina  female  26.0      0   \n",
       "3       Futrelle, Mrs. Jacques Heath (Lily May Peel)  female  35.0      1   \n",
       "4                           Allen, Mr. William Henry    male  35.0      0   \n",
       "\n",
       "   Parch            Ticket     Fare Cabin Embarked  \n",
       "0      0         A/5 21171   7.2500   NaN        S  \n",
       "1      0          PC 17599  71.2833   C85        C  \n",
       "2      0  STON/O2. 3101282   7.9250   NaN        S  \n",
       "3      0            113803  53.1000  C123        S  \n",
       "4      0            373450   8.0500   NaN        S  "
      ]
     },
     "execution_count": 2,
     "metadata": {},
     "output_type": "execute_result"
    }
   ],
   "source": [
    "train_data = pd.read_csv(\"/kaggle/input/titanic/train.csv\")\n",
    "train_data.head()"
   ]
  },
  {
   "cell_type": "code",
   "execution_count": 3,
   "id": "f4fe1faa",
   "metadata": {
    "execution": {
     "iopub.execute_input": "2025-05-26T20:56:32.618452Z",
     "iopub.status.busy": "2025-05-26T20:56:32.618036Z",
     "iopub.status.idle": "2025-05-26T20:56:32.639659Z",
     "shell.execute_reply": "2025-05-26T20:56:32.638351Z"
    },
    "papermill": {
     "duration": 0.032553,
     "end_time": "2025-05-26T20:56:32.641482",
     "exception": false,
     "start_time": "2025-05-26T20:56:32.608929",
     "status": "completed"
    },
    "tags": []
   },
   "outputs": [
    {
     "data": {
      "text/html": [
       "<div>\n",
       "<style scoped>\n",
       "    .dataframe tbody tr th:only-of-type {\n",
       "        vertical-align: middle;\n",
       "    }\n",
       "\n",
       "    .dataframe tbody tr th {\n",
       "        vertical-align: top;\n",
       "    }\n",
       "\n",
       "    .dataframe thead th {\n",
       "        text-align: right;\n",
       "    }\n",
       "</style>\n",
       "<table border=\"1\" class=\"dataframe\">\n",
       "  <thead>\n",
       "    <tr style=\"text-align: right;\">\n",
       "      <th></th>\n",
       "      <th>PassengerId</th>\n",
       "      <th>Pclass</th>\n",
       "      <th>Name</th>\n",
       "      <th>Sex</th>\n",
       "      <th>Age</th>\n",
       "      <th>SibSp</th>\n",
       "      <th>Parch</th>\n",
       "      <th>Ticket</th>\n",
       "      <th>Fare</th>\n",
       "      <th>Cabin</th>\n",
       "      <th>Embarked</th>\n",
       "    </tr>\n",
       "  </thead>\n",
       "  <tbody>\n",
       "    <tr>\n",
       "      <th>0</th>\n",
       "      <td>892</td>\n",
       "      <td>3</td>\n",
       "      <td>Kelly, Mr. James</td>\n",
       "      <td>male</td>\n",
       "      <td>34.5</td>\n",
       "      <td>0</td>\n",
       "      <td>0</td>\n",
       "      <td>330911</td>\n",
       "      <td>7.8292</td>\n",
       "      <td>NaN</td>\n",
       "      <td>Q</td>\n",
       "    </tr>\n",
       "    <tr>\n",
       "      <th>1</th>\n",
       "      <td>893</td>\n",
       "      <td>3</td>\n",
       "      <td>Wilkes, Mrs. James (Ellen Needs)</td>\n",
       "      <td>female</td>\n",
       "      <td>47.0</td>\n",
       "      <td>1</td>\n",
       "      <td>0</td>\n",
       "      <td>363272</td>\n",
       "      <td>7.0000</td>\n",
       "      <td>NaN</td>\n",
       "      <td>S</td>\n",
       "    </tr>\n",
       "    <tr>\n",
       "      <th>2</th>\n",
       "      <td>894</td>\n",
       "      <td>2</td>\n",
       "      <td>Myles, Mr. Thomas Francis</td>\n",
       "      <td>male</td>\n",
       "      <td>62.0</td>\n",
       "      <td>0</td>\n",
       "      <td>0</td>\n",
       "      <td>240276</td>\n",
       "      <td>9.6875</td>\n",
       "      <td>NaN</td>\n",
       "      <td>Q</td>\n",
       "    </tr>\n",
       "    <tr>\n",
       "      <th>3</th>\n",
       "      <td>895</td>\n",
       "      <td>3</td>\n",
       "      <td>Wirz, Mr. Albert</td>\n",
       "      <td>male</td>\n",
       "      <td>27.0</td>\n",
       "      <td>0</td>\n",
       "      <td>0</td>\n",
       "      <td>315154</td>\n",
       "      <td>8.6625</td>\n",
       "      <td>NaN</td>\n",
       "      <td>S</td>\n",
       "    </tr>\n",
       "    <tr>\n",
       "      <th>4</th>\n",
       "      <td>896</td>\n",
       "      <td>3</td>\n",
       "      <td>Hirvonen, Mrs. Alexander (Helga E Lindqvist)</td>\n",
       "      <td>female</td>\n",
       "      <td>22.0</td>\n",
       "      <td>1</td>\n",
       "      <td>1</td>\n",
       "      <td>3101298</td>\n",
       "      <td>12.2875</td>\n",
       "      <td>NaN</td>\n",
       "      <td>S</td>\n",
       "    </tr>\n",
       "  </tbody>\n",
       "</table>\n",
       "</div>"
      ],
      "text/plain": [
       "   PassengerId  Pclass                                          Name     Sex  \\\n",
       "0          892       3                              Kelly, Mr. James    male   \n",
       "1          893       3              Wilkes, Mrs. James (Ellen Needs)  female   \n",
       "2          894       2                     Myles, Mr. Thomas Francis    male   \n",
       "3          895       3                              Wirz, Mr. Albert    male   \n",
       "4          896       3  Hirvonen, Mrs. Alexander (Helga E Lindqvist)  female   \n",
       "\n",
       "    Age  SibSp  Parch   Ticket     Fare Cabin Embarked  \n",
       "0  34.5      0      0   330911   7.8292   NaN        Q  \n",
       "1  47.0      1      0   363272   7.0000   NaN        S  \n",
       "2  62.0      0      0   240276   9.6875   NaN        Q  \n",
       "3  27.0      0      0   315154   8.6625   NaN        S  \n",
       "4  22.0      1      1  3101298  12.2875   NaN        S  "
      ]
     },
     "execution_count": 3,
     "metadata": {},
     "output_type": "execute_result"
    }
   ],
   "source": [
    "test_data = pd.read_csv(\"/kaggle/input/titanic/test.csv\")\n",
    "test_data.head()"
   ]
  },
  {
   "cell_type": "markdown",
   "id": "1b186449",
   "metadata": {
    "papermill": {
     "duration": 0.007598,
     "end_time": "2025-05-26T20:56:32.657304",
     "exception": false,
     "start_time": "2025-05-26T20:56:32.649706",
     "status": "completed"
    },
    "tags": []
   },
   "source": [
    "Creating FamilySize: Combining the number of siblings/spouses (SibSp) and parents/children (Parch). Larger families may have had different survival chances."
   ]
  },
  {
   "cell_type": "code",
   "execution_count": 4,
   "id": "97d3e637",
   "metadata": {
    "execution": {
     "iopub.execute_input": "2025-05-26T20:56:32.674443Z",
     "iopub.status.busy": "2025-05-26T20:56:32.674020Z",
     "iopub.status.idle": "2025-05-26T20:56:32.682278Z",
     "shell.execute_reply": "2025-05-26T20:56:32.681130Z"
    },
    "papermill": {
     "duration": 0.019042,
     "end_time": "2025-05-26T20:56:32.684185",
     "exception": false,
     "start_time": "2025-05-26T20:56:32.665143",
     "status": "completed"
    },
    "tags": []
   },
   "outputs": [],
   "source": [
    "train_data[\"FamilySize\"] = train_data[\"SibSp\"] + train_data[\"Parch\"]\n",
    "test_data[\"FamilySize\"] = test_data[\"SibSp\"] + test_data[\"Parch\"]"
   ]
  },
  {
   "cell_type": "markdown",
   "id": "5f0fa376",
   "metadata": {
    "papermill": {
     "duration": 0.007434,
     "end_time": "2025-05-26T20:56:32.699734",
     "exception": false,
     "start_time": "2025-05-26T20:56:32.692300",
     "status": "completed"
    },
    "tags": []
   },
   "source": [
    "Created IsAlone: Identifies passengers traveling alone (no family). Solo travelers may have faced different risks."
   ]
  },
  {
   "cell_type": "code",
   "execution_count": 5,
   "id": "b1992d27",
   "metadata": {
    "execution": {
     "iopub.execute_input": "2025-05-26T20:56:32.718920Z",
     "iopub.status.busy": "2025-05-26T20:56:32.718464Z",
     "iopub.status.idle": "2025-05-26T20:56:32.726319Z",
     "shell.execute_reply": "2025-05-26T20:56:32.725202Z"
    },
    "papermill": {
     "duration": 0.020631,
     "end_time": "2025-05-26T20:56:32.728446",
     "exception": false,
     "start_time": "2025-05-26T20:56:32.707815",
     "status": "completed"
    },
    "tags": []
   },
   "outputs": [],
   "source": [
    "train_data[\"IsAlone\"] = (train_data[\"FamilySize\"] == 0).astype(np.float32)\n",
    "test_data[\"IsAlone\"] = (test_data[\"FamilySize\"] == 0).astype(np.float32)"
   ]
  },
  {
   "cell_type": "markdown",
   "id": "bbfb35a4",
   "metadata": {
    "papermill": {
     "duration": 0.007645,
     "end_time": "2025-05-26T20:56:32.744278",
     "exception": false,
     "start_time": "2025-05-26T20:56:32.736633",
     "status": "completed"
    },
    "tags": []
   },
   "source": [
    "Edited Title: Extracted from the passenger's name (e.g., Mr., Mrs., Miss) to capture social status or demographic clues."
   ]
  },
  {
   "cell_type": "code",
   "execution_count": 6,
   "id": "6667b05a",
   "metadata": {
    "execution": {
     "iopub.execute_input": "2025-05-26T20:56:32.761911Z",
     "iopub.status.busy": "2025-05-26T20:56:32.761427Z",
     "iopub.status.idle": "2025-05-26T20:56:32.777006Z",
     "shell.execute_reply": "2025-05-26T20:56:32.775867Z"
    },
    "papermill": {
     "duration": 0.026501,
     "end_time": "2025-05-26T20:56:32.779040",
     "exception": false,
     "start_time": "2025-05-26T20:56:32.752539",
     "status": "completed"
    },
    "tags": []
   },
   "outputs": [],
   "source": [
    "# Reorganize titles\n",
    "train_data[\"Title\"] = train_data[\"Name\"].str.extract(\" ([A-Za-z]+)\\.\", expand=False)\n",
    "test_data[\"Title\"] = test_data[\"Name\"].str.extract(\" ([A-Za-z]+)\\.\", expand=False)\n",
    "\n",
    "# Grouping rare titles\n",
    "for df in [train_data, test_data]:\n",
    "    df[\"Title\"] = df[\"Title\"].replace(\n",
    "        ['Lady', 'Countess','Capt', 'Col','Don', 'Dr', 'Major', 'Rev', \n",
    "         'Sir', 'Jonkheer', 'Dona'], 'Rare')\n",
    "    df[\"Title\"] = df[\"Title\"].replace('Mlle', 'Miss')\n",
    "    df[\"Title\"] = df[\"Title\"].replace('Ms', 'Miss')\n",
    "    df[\"Title\"] = df[\"Title\"].replace('Mme', 'Mrs')"
   ]
  },
  {
   "cell_type": "code",
   "execution_count": 7,
   "id": "02afba92",
   "metadata": {
    "execution": {
     "iopub.execute_input": "2025-05-26T20:56:32.796416Z",
     "iopub.status.busy": "2025-05-26T20:56:32.796017Z",
     "iopub.status.idle": "2025-05-26T20:56:32.802519Z",
     "shell.execute_reply": "2025-05-26T20:56:32.801167Z"
    },
    "papermill": {
     "duration": 0.017337,
     "end_time": "2025-05-26T20:56:32.804456",
     "exception": false,
     "start_time": "2025-05-26T20:56:32.787119",
     "status": "completed"
    },
    "tags": []
   },
   "outputs": [],
   "source": [
    "# Label encoder\n",
    "le = LabelEncoder()\n",
    "train_data[\"Title\"] = le.fit_transform(train_data[\"Title\"])\n",
    "test_data[\"Title\"] = le.transform(test_data[\"Title\"])"
   ]
  },
  {
   "cell_type": "markdown",
   "id": "aaaba5dc",
   "metadata": {
    "papermill": {
     "duration": 0.007507,
     "end_time": "2025-05-26T20:56:32.820206",
     "exception": false,
     "start_time": "2025-05-26T20:56:32.812699",
     "status": "completed"
    },
    "tags": []
   },
   "source": [
    "## Train Data Preprocessing"
   ]
  },
  {
   "cell_type": "markdown",
   "id": "047b56f7",
   "metadata": {
    "papermill": {
     "duration": 0.007602,
     "end_time": "2025-05-26T20:56:32.835639",
     "exception": false,
     "start_time": "2025-05-26T20:56:32.828037",
     "status": "completed"
    },
    "tags": []
   },
   "source": [
    "NaN values filled, some categorcal values converted to float32 type"
   ]
  },
  {
   "cell_type": "code",
   "execution_count": 8,
   "id": "4b68007b",
   "metadata": {
    "execution": {
     "iopub.execute_input": "2025-05-26T20:56:32.853074Z",
     "iopub.status.busy": "2025-05-26T20:56:32.852556Z",
     "iopub.status.idle": "2025-05-26T20:56:32.865457Z",
     "shell.execute_reply": "2025-05-26T20:56:32.864043Z"
    },
    "papermill": {
     "duration": 0.02411,
     "end_time": "2025-05-26T20:56:32.867637",
     "exception": false,
     "start_time": "2025-05-26T20:56:32.843527",
     "status": "completed"
    },
    "tags": []
   },
   "outputs": [],
   "source": [
    "train = train_data[[\"Survived\",\"Pclass\",\"Sex\",\"Age\",\"SibSp\",\"Parch\",\"Fare\"]]"
   ]
  },
  {
   "cell_type": "markdown",
   "id": "a6608016",
   "metadata": {
    "papermill": {
     "duration": 0.008056,
     "end_time": "2025-05-26T20:56:32.883807",
     "exception": false,
     "start_time": "2025-05-26T20:56:32.875751",
     "status": "completed"
    },
    "tags": []
   },
   "source": [
    "Age: Replaced with median age — because age distribution is skewed and median is more robust to outliers."
   ]
  },
  {
   "cell_type": "code",
   "execution_count": 9,
   "id": "f7544960",
   "metadata": {
    "execution": {
     "iopub.execute_input": "2025-05-26T20:56:32.901202Z",
     "iopub.status.busy": "2025-05-26T20:56:32.900783Z",
     "iopub.status.idle": "2025-05-26T20:56:32.906714Z",
     "shell.execute_reply": "2025-05-26T20:56:32.905699Z"
    },
    "papermill": {
     "duration": 0.017114,
     "end_time": "2025-05-26T20:56:32.908809",
     "exception": false,
     "start_time": "2025-05-26T20:56:32.891695",
     "status": "completed"
    },
    "tags": []
   },
   "outputs": [],
   "source": [
    "train_data[\"Age\"] = train_data[\"Age\"].fillna(train_data[\"Age\"].median())"
   ]
  },
  {
   "cell_type": "code",
   "execution_count": 10,
   "id": "185fa6db",
   "metadata": {
    "execution": {
     "iopub.execute_input": "2025-05-26T20:56:32.926396Z",
     "iopub.status.busy": "2025-05-26T20:56:32.925918Z",
     "iopub.status.idle": "2025-05-26T20:56:32.932659Z",
     "shell.execute_reply": "2025-05-26T20:56:32.931361Z"
    },
    "papermill": {
     "duration": 0.017795,
     "end_time": "2025-05-26T20:56:32.934711",
     "exception": false,
     "start_time": "2025-05-26T20:56:32.916916",
     "status": "completed"
    },
    "tags": []
   },
   "outputs": [],
   "source": [
    "train_data[\"Sex\"] = train_data[\"Sex\"].map({'male':0,'female':1}).astype(np.float32)"
   ]
  },
  {
   "cell_type": "markdown",
   "id": "bb4c3423",
   "metadata": {
    "papermill": {
     "duration": 0.007782,
     "end_time": "2025-05-26T20:56:32.950996",
     "exception": false,
     "start_time": "2025-05-26T20:56:32.943214",
     "status": "completed"
    },
    "tags": []
   },
   "source": [
    "Fare: Applied log1p transformation to reduce skewness in the fare amounts."
   ]
  },
  {
   "cell_type": "code",
   "execution_count": 11,
   "id": "b341ace7",
   "metadata": {
    "execution": {
     "iopub.execute_input": "2025-05-26T20:56:32.968572Z",
     "iopub.status.busy": "2025-05-26T20:56:32.968120Z",
     "iopub.status.idle": "2025-05-26T20:56:32.977161Z",
     "shell.execute_reply": "2025-05-26T20:56:32.975926Z"
    },
    "papermill": {
     "duration": 0.020502,
     "end_time": "2025-05-26T20:56:32.979356",
     "exception": false,
     "start_time": "2025-05-26T20:56:32.958854",
     "status": "completed"
    },
    "tags": []
   },
   "outputs": [],
   "source": [
    "# log1p transformation\n",
    "train_data[\"Fare\"] = np.log1p(train_data[\"Fare\"])"
   ]
  },
  {
   "cell_type": "code",
   "execution_count": 12,
   "id": "c5e87e37",
   "metadata": {
    "execution": {
     "iopub.execute_input": "2025-05-26T20:56:32.996805Z",
     "iopub.status.busy": "2025-05-26T20:56:32.996402Z",
     "iopub.status.idle": "2025-05-26T20:56:33.003401Z",
     "shell.execute_reply": "2025-05-26T20:56:33.002091Z"
    },
    "papermill": {
     "duration": 0.017725,
     "end_time": "2025-05-26T20:56:33.005277",
     "exception": false,
     "start_time": "2025-05-26T20:56:32.987552",
     "status": "completed"
    },
    "tags": []
   },
   "outputs": [],
   "source": [
    "X = train_data[[\"Pclass\", \"Sex\", \"Age\", \"SibSp\", \"Parch\", \"Fare\", \"FamilySize\", \"IsAlone\",\"Title\"]].values.astype(np.float32)\n",
    "y = train_data[\"Survived\"].values.astype(np.float32)"
   ]
  },
  {
   "cell_type": "markdown",
   "id": "b5dda6ae",
   "metadata": {
    "papermill": {
     "duration": 0.007557,
     "end_time": "2025-05-26T20:56:33.021580",
     "exception": false,
     "start_time": "2025-05-26T20:56:33.014023",
     "status": "completed"
    },
    "tags": []
   },
   "source": [
    "### Train-Test Split"
   ]
  },
  {
   "cell_type": "code",
   "execution_count": 13,
   "id": "7dc01192",
   "metadata": {
    "execution": {
     "iopub.execute_input": "2025-05-26T20:56:33.039302Z",
     "iopub.status.busy": "2025-05-26T20:56:33.038875Z",
     "iopub.status.idle": "2025-05-26T20:56:33.044783Z",
     "shell.execute_reply": "2025-05-26T20:56:33.043383Z"
    },
    "papermill": {
     "duration": 0.017151,
     "end_time": "2025-05-26T20:56:33.046755",
     "exception": false,
     "start_time": "2025-05-26T20:56:33.029604",
     "status": "completed"
    },
    "tags": []
   },
   "outputs": [],
   "source": [
    "X_train, X_test, y_train, y_test = train_test_split(\n",
    "    X, y, test_size=0.3, random_state=42)"
   ]
  },
  {
   "cell_type": "markdown",
   "id": "fe832b93",
   "metadata": {
    "papermill": {
     "duration": 0.007511,
     "end_time": "2025-05-26T20:56:33.062310",
     "exception": false,
     "start_time": "2025-05-26T20:56:33.054799",
     "status": "completed"
    },
    "tags": []
   },
   "source": [
    "### Normalization"
   ]
  },
  {
   "cell_type": "code",
   "execution_count": 14,
   "id": "6e6df6cf",
   "metadata": {
    "execution": {
     "iopub.execute_input": "2025-05-26T20:56:33.079482Z",
     "iopub.status.busy": "2025-05-26T20:56:33.079046Z",
     "iopub.status.idle": "2025-05-26T20:56:33.089331Z",
     "shell.execute_reply": "2025-05-26T20:56:33.088018Z"
    },
    "papermill": {
     "duration": 0.021055,
     "end_time": "2025-05-26T20:56:33.091330",
     "exception": false,
     "start_time": "2025-05-26T20:56:33.070275",
     "status": "completed"
    },
    "tags": []
   },
   "outputs": [],
   "source": [
    "scaler = RobustScaler()\n",
    "X_train = scaler.fit_transform(X_train)\n",
    "X_test = scaler.transform(X_test)"
   ]
  },
  {
   "cell_type": "markdown",
   "id": "c56d7ec0",
   "metadata": {
    "papermill": {
     "duration": 0.007927,
     "end_time": "2025-05-26T20:56:33.107313",
     "exception": false,
     "start_time": "2025-05-26T20:56:33.099386",
     "status": "completed"
    },
    "tags": []
   },
   "source": [
    "## Creating a Model\n",
    "\n",
    "Creating a nn model to predict survivors "
   ]
  },
  {
   "cell_type": "code",
   "execution_count": 15,
   "id": "545e714a",
   "metadata": {
    "execution": {
     "iopub.execute_input": "2025-05-26T20:56:33.124972Z",
     "iopub.status.busy": "2025-05-26T20:56:33.124500Z",
     "iopub.status.idle": "2025-05-26T20:56:33.257911Z",
     "shell.execute_reply": "2025-05-26T20:56:33.256757Z"
    },
    "papermill": {
     "duration": 0.144242,
     "end_time": "2025-05-26T20:56:33.259926",
     "exception": false,
     "start_time": "2025-05-26T20:56:33.115684",
     "status": "completed"
    },
    "tags": []
   },
   "outputs": [
    {
     "name": "stderr",
     "output_type": "stream",
     "text": [
      "/usr/local/lib/python3.10/dist-packages/keras/src/layers/core/dense.py:87: UserWarning: Do not pass an `input_shape`/`input_dim` argument to a layer. When using Sequential models, prefer using an `Input(shape)` object as the first layer in the model instead.\n",
      "  super().__init__(activity_regularizer=activity_regularizer, **kwargs)\n"
     ]
    }
   ],
   "source": [
    "model = Sequential()\n",
    "\n",
    "model.add(Dense(units = 16, activation=\"relu\", input_shape=(X_train.shape[1],)))\n",
    "model.add(Dropout(0.3))\n",
    "model.add(Dense(units = 8, activation=\"relu\"))\n",
    "model.add(Dropout(0.3))\n",
    "model.add(Dense(units = 1, activation=\"sigmoid\"))\n",
    "\n",
    "model.compile(loss=\"binary_crossentropy\",optimizer=\"adam\", metrics=[\"Accuracy\"])"
   ]
  },
  {
   "cell_type": "markdown",
   "id": "0b694675",
   "metadata": {
    "papermill": {
     "duration": 0.00768,
     "end_time": "2025-05-26T20:56:33.276023",
     "exception": false,
     "start_time": "2025-05-26T20:56:33.268343",
     "status": "completed"
    },
    "tags": []
   },
   "source": [
    "The model was trained over 60 epochs with a batch size of 20.\n",
    "We monitored training and validation loss/accuracy."
   ]
  },
  {
   "cell_type": "code",
   "execution_count": 16,
   "id": "8ee4920d",
   "metadata": {
    "execution": {
     "iopub.execute_input": "2025-05-26T20:56:33.293427Z",
     "iopub.status.busy": "2025-05-26T20:56:33.292970Z",
     "iopub.status.idle": "2025-05-26T20:56:43.540152Z",
     "shell.execute_reply": "2025-05-26T20:56:43.538876Z"
    },
    "papermill": {
     "duration": 10.25859,
     "end_time": "2025-05-26T20:56:43.542551",
     "exception": false,
     "start_time": "2025-05-26T20:56:33.283961",
     "status": "completed"
    },
    "tags": []
   },
   "outputs": [
    {
     "name": "stdout",
     "output_type": "stream",
     "text": [
      "Epoch 1/60\n",
      "\u001b[1m32/32\u001b[0m \u001b[32m━━━━━━━━━━━━━━━━━━━━\u001b[0m\u001b[37m\u001b[0m \u001b[1m2s\u001b[0m 10ms/step - Accuracy: 0.4712 - loss: 0.7149 - val_Accuracy: 0.5410 - val_loss: 0.6856\n",
      "Epoch 2/60\n",
      "\u001b[1m32/32\u001b[0m \u001b[32m━━━━━━━━━━━━━━━━━━━━\u001b[0m\u001b[37m\u001b[0m \u001b[1m0s\u001b[0m 4ms/step - Accuracy: 0.5684 - loss: 0.6792 - val_Accuracy: 0.6418 - val_loss: 0.6758\n",
      "Epoch 3/60\n",
      "\u001b[1m32/32\u001b[0m \u001b[32m━━━━━━━━━━━━━━━━━━━━\u001b[0m\u001b[37m\u001b[0m \u001b[1m0s\u001b[0m 4ms/step - Accuracy: 0.6680 - loss: 0.6540 - val_Accuracy: 0.6530 - val_loss: 0.6638\n",
      "Epoch 4/60\n",
      "\u001b[1m32/32\u001b[0m \u001b[32m━━━━━━━━━━━━━━━━━━━━\u001b[0m\u001b[37m\u001b[0m \u001b[1m0s\u001b[0m 4ms/step - Accuracy: 0.6980 - loss: 0.6416 - val_Accuracy: 0.6679 - val_loss: 0.6510\n",
      "Epoch 5/60\n",
      "\u001b[1m32/32\u001b[0m \u001b[32m━━━━━━━━━━━━━━━━━━━━\u001b[0m\u001b[37m\u001b[0m \u001b[1m0s\u001b[0m 3ms/step - Accuracy: 0.6451 - loss: 0.6501 - val_Accuracy: 0.7015 - val_loss: 0.6354\n",
      "Epoch 6/60\n",
      "\u001b[1m32/32\u001b[0m \u001b[32m━━━━━━━━━━━━━━━━━━━━\u001b[0m\u001b[37m\u001b[0m \u001b[1m0s\u001b[0m 4ms/step - Accuracy: 0.6514 - loss: 0.6280 - val_Accuracy: 0.7090 - val_loss: 0.6201\n",
      "Epoch 7/60\n",
      "\u001b[1m32/32\u001b[0m \u001b[32m━━━━━━━━━━━━━━━━━━━━\u001b[0m\u001b[37m\u001b[0m \u001b[1m0s\u001b[0m 4ms/step - Accuracy: 0.6801 - loss: 0.6206 - val_Accuracy: 0.7052 - val_loss: 0.6060\n",
      "Epoch 8/60\n",
      "\u001b[1m32/32\u001b[0m \u001b[32m━━━━━━━━━━━━━━━━━━━━\u001b[0m\u001b[37m\u001b[0m \u001b[1m0s\u001b[0m 4ms/step - Accuracy: 0.7053 - loss: 0.5949 - val_Accuracy: 0.7537 - val_loss: 0.5904\n",
      "Epoch 9/60\n",
      "\u001b[1m32/32\u001b[0m \u001b[32m━━━━━━━━━━━━━━━━━━━━\u001b[0m\u001b[37m\u001b[0m \u001b[1m0s\u001b[0m 3ms/step - Accuracy: 0.6710 - loss: 0.6061 - val_Accuracy: 0.7761 - val_loss: 0.5728\n",
      "Epoch 10/60\n",
      "\u001b[1m32/32\u001b[0m \u001b[32m━━━━━━━━━━━━━━━━━━━━\u001b[0m\u001b[37m\u001b[0m \u001b[1m0s\u001b[0m 3ms/step - Accuracy: 0.6721 - loss: 0.5897 - val_Accuracy: 0.7910 - val_loss: 0.5604\n",
      "Epoch 11/60\n",
      "\u001b[1m32/32\u001b[0m \u001b[32m━━━━━━━━━━━━━━━━━━━━\u001b[0m\u001b[37m\u001b[0m \u001b[1m0s\u001b[0m 3ms/step - Accuracy: 0.7174 - loss: 0.5673 - val_Accuracy: 0.8060 - val_loss: 0.5497\n",
      "Epoch 12/60\n",
      "\u001b[1m32/32\u001b[0m \u001b[32m━━━━━━━━━━━━━━━━━━━━\u001b[0m\u001b[37m\u001b[0m \u001b[1m0s\u001b[0m 3ms/step - Accuracy: 0.7067 - loss: 0.5601 - val_Accuracy: 0.7985 - val_loss: 0.5359\n",
      "Epoch 13/60\n",
      "\u001b[1m32/32\u001b[0m \u001b[32m━━━━━━━━━━━━━━━━━━━━\u001b[0m\u001b[37m\u001b[0m \u001b[1m0s\u001b[0m 3ms/step - Accuracy: 0.7412 - loss: 0.5558 - val_Accuracy: 0.8060 - val_loss: 0.5245\n",
      "Epoch 14/60\n",
      "\u001b[1m32/32\u001b[0m \u001b[32m━━━━━━━━━━━━━━━━━━━━\u001b[0m\u001b[37m\u001b[0m \u001b[1m0s\u001b[0m 3ms/step - Accuracy: 0.7346 - loss: 0.5505 - val_Accuracy: 0.8022 - val_loss: 0.5138\n",
      "Epoch 15/60\n",
      "\u001b[1m32/32\u001b[0m \u001b[32m━━━━━━━━━━━━━━━━━━━━\u001b[0m\u001b[37m\u001b[0m \u001b[1m0s\u001b[0m 3ms/step - Accuracy: 0.7109 - loss: 0.5490 - val_Accuracy: 0.7948 - val_loss: 0.5036\n",
      "Epoch 16/60\n",
      "\u001b[1m32/32\u001b[0m \u001b[32m━━━━━━━━━━━━━━━━━━━━\u001b[0m\u001b[37m\u001b[0m \u001b[1m0s\u001b[0m 4ms/step - Accuracy: 0.7161 - loss: 0.5596 - val_Accuracy: 0.7948 - val_loss: 0.4977\n",
      "Epoch 17/60\n",
      "\u001b[1m32/32\u001b[0m \u001b[32m━━━━━━━━━━━━━━━━━━━━\u001b[0m\u001b[37m\u001b[0m \u001b[1m0s\u001b[0m 4ms/step - Accuracy: 0.7303 - loss: 0.5144 - val_Accuracy: 0.7985 - val_loss: 0.4911\n",
      "Epoch 18/60\n",
      "\u001b[1m32/32\u001b[0m \u001b[32m━━━━━━━━━━━━━━━━━━━━\u001b[0m\u001b[37m\u001b[0m \u001b[1m0s\u001b[0m 3ms/step - Accuracy: 0.7139 - loss: 0.5796 - val_Accuracy: 0.7985 - val_loss: 0.4850\n",
      "Epoch 19/60\n",
      "\u001b[1m32/32\u001b[0m \u001b[32m━━━━━━━━━━━━━━━━━━━━\u001b[0m\u001b[37m\u001b[0m \u001b[1m0s\u001b[0m 4ms/step - Accuracy: 0.7190 - loss: 0.5487 - val_Accuracy: 0.7948 - val_loss: 0.4801\n",
      "Epoch 20/60\n",
      "\u001b[1m32/32\u001b[0m \u001b[32m━━━━━━━━━━━━━━━━━━━━\u001b[0m\u001b[37m\u001b[0m \u001b[1m0s\u001b[0m 4ms/step - Accuracy: 0.7278 - loss: 0.5527 - val_Accuracy: 0.7985 - val_loss: 0.4765\n",
      "Epoch 21/60\n",
      "\u001b[1m32/32\u001b[0m \u001b[32m━━━━━━━━━━━━━━━━━━━━\u001b[0m\u001b[37m\u001b[0m \u001b[1m0s\u001b[0m 3ms/step - Accuracy: 0.7412 - loss: 0.5377 - val_Accuracy: 0.7985 - val_loss: 0.4726\n",
      "Epoch 22/60\n",
      "\u001b[1m32/32\u001b[0m \u001b[32m━━━━━━━━━━━━━━━━━━━━\u001b[0m\u001b[37m\u001b[0m \u001b[1m0s\u001b[0m 4ms/step - Accuracy: 0.7238 - loss: 0.5207 - val_Accuracy: 0.8022 - val_loss: 0.4663\n",
      "Epoch 23/60\n",
      "\u001b[1m32/32\u001b[0m \u001b[32m━━━━━━━━━━━━━━━━━━━━\u001b[0m\u001b[37m\u001b[0m \u001b[1m0s\u001b[0m 4ms/step - Accuracy: 0.7306 - loss: 0.5371 - val_Accuracy: 0.8172 - val_loss: 0.4633\n",
      "Epoch 24/60\n",
      "\u001b[1m32/32\u001b[0m \u001b[32m━━━━━━━━━━━━━━━━━━━━\u001b[0m\u001b[37m\u001b[0m \u001b[1m0s\u001b[0m 4ms/step - Accuracy: 0.7426 - loss: 0.5180 - val_Accuracy: 0.8172 - val_loss: 0.4587\n",
      "Epoch 25/60\n",
      "\u001b[1m32/32\u001b[0m \u001b[32m━━━━━━━━━━━━━━━━━━━━\u001b[0m\u001b[37m\u001b[0m \u001b[1m0s\u001b[0m 3ms/step - Accuracy: 0.7537 - loss: 0.4921 - val_Accuracy: 0.8209 - val_loss: 0.4544\n",
      "Epoch 26/60\n",
      "\u001b[1m32/32\u001b[0m \u001b[32m━━━━━━━━━━━━━━━━━━━━\u001b[0m\u001b[37m\u001b[0m \u001b[1m0s\u001b[0m 4ms/step - Accuracy: 0.7707 - loss: 0.4895 - val_Accuracy: 0.8172 - val_loss: 0.4515\n",
      "Epoch 27/60\n",
      "\u001b[1m32/32\u001b[0m \u001b[32m━━━━━━━━━━━━━━━━━━━━\u001b[0m\u001b[37m\u001b[0m \u001b[1m0s\u001b[0m 4ms/step - Accuracy: 0.7542 - loss: 0.5066 - val_Accuracy: 0.8209 - val_loss: 0.4509\n",
      "Epoch 28/60\n",
      "\u001b[1m32/32\u001b[0m \u001b[32m━━━━━━━━━━━━━━━━━━━━\u001b[0m\u001b[37m\u001b[0m \u001b[1m0s\u001b[0m 4ms/step - Accuracy: 0.7393 - loss: 0.4946 - val_Accuracy: 0.8209 - val_loss: 0.4491\n",
      "Epoch 29/60\n",
      "\u001b[1m32/32\u001b[0m \u001b[32m━━━━━━━━━━━━━━━━━━━━\u001b[0m\u001b[37m\u001b[0m \u001b[1m0s\u001b[0m 3ms/step - Accuracy: 0.7657 - loss: 0.4958 - val_Accuracy: 0.8172 - val_loss: 0.4451\n",
      "Epoch 30/60\n",
      "\u001b[1m32/32\u001b[0m \u001b[32m━━━━━━━━━━━━━━━━━━━━\u001b[0m\u001b[37m\u001b[0m \u001b[1m0s\u001b[0m 3ms/step - Accuracy: 0.7635 - loss: 0.4800 - val_Accuracy: 0.8172 - val_loss: 0.4439\n",
      "Epoch 31/60\n",
      "\u001b[1m32/32\u001b[0m \u001b[32m━━━━━━━━━━━━━━━━━━━━\u001b[0m\u001b[37m\u001b[0m \u001b[1m0s\u001b[0m 3ms/step - Accuracy: 0.7776 - loss: 0.4476 - val_Accuracy: 0.8246 - val_loss: 0.4389\n",
      "Epoch 32/60\n",
      "\u001b[1m32/32\u001b[0m \u001b[32m━━━━━━━━━━━━━━━━━━━━\u001b[0m\u001b[37m\u001b[0m \u001b[1m0s\u001b[0m 3ms/step - Accuracy: 0.7426 - loss: 0.4773 - val_Accuracy: 0.8284 - val_loss: 0.4362\n",
      "Epoch 33/60\n",
      "\u001b[1m32/32\u001b[0m \u001b[32m━━━━━━━━━━━━━━━━━━━━\u001b[0m\u001b[37m\u001b[0m \u001b[1m0s\u001b[0m 4ms/step - Accuracy: 0.7771 - loss: 0.5044 - val_Accuracy: 0.8246 - val_loss: 0.4346\n",
      "Epoch 34/60\n",
      "\u001b[1m32/32\u001b[0m \u001b[32m━━━━━━━━━━━━━━━━━━━━\u001b[0m\u001b[37m\u001b[0m \u001b[1m0s\u001b[0m 3ms/step - Accuracy: 0.7890 - loss: 0.5069 - val_Accuracy: 0.8246 - val_loss: 0.4302\n",
      "Epoch 35/60\n",
      "\u001b[1m32/32\u001b[0m \u001b[32m━━━━━━━━━━━━━━━━━━━━\u001b[0m\u001b[37m\u001b[0m \u001b[1m0s\u001b[0m 3ms/step - Accuracy: 0.7812 - loss: 0.4881 - val_Accuracy: 0.8246 - val_loss: 0.4268\n",
      "Epoch 36/60\n",
      "\u001b[1m32/32\u001b[0m \u001b[32m━━━━━━━━━━━━━━━━━━━━\u001b[0m\u001b[37m\u001b[0m \u001b[1m0s\u001b[0m 3ms/step - Accuracy: 0.7792 - loss: 0.4923 - val_Accuracy: 0.8209 - val_loss: 0.4271\n",
      "Epoch 37/60\n",
      "\u001b[1m32/32\u001b[0m \u001b[32m━━━━━━━━━━━━━━━━━━━━\u001b[0m\u001b[37m\u001b[0m \u001b[1m0s\u001b[0m 3ms/step - Accuracy: 0.7381 - loss: 0.5109 - val_Accuracy: 0.8209 - val_loss: 0.4284\n",
      "Epoch 38/60\n",
      "\u001b[1m32/32\u001b[0m \u001b[32m━━━━━━━━━━━━━━━━━━━━\u001b[0m\u001b[37m\u001b[0m \u001b[1m0s\u001b[0m 4ms/step - Accuracy: 0.8017 - loss: 0.4647 - val_Accuracy: 0.8209 - val_loss: 0.4285\n",
      "Epoch 39/60\n",
      "\u001b[1m32/32\u001b[0m \u001b[32m━━━━━━━━━━━━━━━━━━━━\u001b[0m\u001b[37m\u001b[0m \u001b[1m0s\u001b[0m 3ms/step - Accuracy: 0.7955 - loss: 0.4451 - val_Accuracy: 0.8209 - val_loss: 0.4260\n",
      "Epoch 40/60\n",
      "\u001b[1m32/32\u001b[0m \u001b[32m━━━━━━━━━━━━━━━━━━━━\u001b[0m\u001b[37m\u001b[0m \u001b[1m0s\u001b[0m 3ms/step - Accuracy: 0.8008 - loss: 0.4765 - val_Accuracy: 0.8246 - val_loss: 0.4232\n",
      "Epoch 41/60\n",
      "\u001b[1m32/32\u001b[0m \u001b[32m━━━━━━━━━━━━━━━━━━━━\u001b[0m\u001b[37m\u001b[0m \u001b[1m0s\u001b[0m 4ms/step - Accuracy: 0.7981 - loss: 0.4855 - val_Accuracy: 0.8321 - val_loss: 0.4250\n",
      "Epoch 42/60\n",
      "\u001b[1m32/32\u001b[0m \u001b[32m━━━━━━━━━━━━━━━━━━━━\u001b[0m\u001b[37m\u001b[0m \u001b[1m0s\u001b[0m 3ms/step - Accuracy: 0.7871 - loss: 0.4790 - val_Accuracy: 0.8284 - val_loss: 0.4221\n",
      "Epoch 43/60\n",
      "\u001b[1m32/32\u001b[0m \u001b[32m━━━━━━━━━━━━━━━━━━━━\u001b[0m\u001b[37m\u001b[0m \u001b[1m0s\u001b[0m 3ms/step - Accuracy: 0.7668 - loss: 0.5128 - val_Accuracy: 0.8284 - val_loss: 0.4251\n",
      "Epoch 44/60\n",
      "\u001b[1m32/32\u001b[0m \u001b[32m━━━━━━━━━━━━━━━━━━━━\u001b[0m\u001b[37m\u001b[0m \u001b[1m0s\u001b[0m 3ms/step - Accuracy: 0.7716 - loss: 0.4793 - val_Accuracy: 0.8246 - val_loss: 0.4232\n",
      "Epoch 45/60\n",
      "\u001b[1m32/32\u001b[0m \u001b[32m━━━━━━━━━━━━━━━━━━━━\u001b[0m\u001b[37m\u001b[0m \u001b[1m0s\u001b[0m 3ms/step - Accuracy: 0.7766 - loss: 0.5000 - val_Accuracy: 0.8246 - val_loss: 0.4213\n",
      "Epoch 46/60\n",
      "\u001b[1m32/32\u001b[0m \u001b[32m━━━━━━━━━━━━━━━━━━━━\u001b[0m\u001b[37m\u001b[0m \u001b[1m0s\u001b[0m 4ms/step - Accuracy: 0.8137 - loss: 0.4463 - val_Accuracy: 0.8284 - val_loss: 0.4181\n",
      "Epoch 47/60\n",
      "\u001b[1m32/32\u001b[0m \u001b[32m━━━━━━━━━━━━━━━━━━━━\u001b[0m\u001b[37m\u001b[0m \u001b[1m0s\u001b[0m 3ms/step - Accuracy: 0.7639 - loss: 0.4706 - val_Accuracy: 0.8209 - val_loss: 0.4212\n",
      "Epoch 48/60\n",
      "\u001b[1m32/32\u001b[0m \u001b[32m━━━━━━━━━━━━━━━━━━━━\u001b[0m\u001b[37m\u001b[0m \u001b[1m0s\u001b[0m 4ms/step - Accuracy: 0.8187 - loss: 0.4461 - val_Accuracy: 0.8284 - val_loss: 0.4162\n",
      "Epoch 49/60\n",
      "\u001b[1m32/32\u001b[0m \u001b[32m━━━━━━━━━━━━━━━━━━━━\u001b[0m\u001b[37m\u001b[0m \u001b[1m0s\u001b[0m 3ms/step - Accuracy: 0.7799 - loss: 0.4691 - val_Accuracy: 0.8246 - val_loss: 0.4113\n",
      "Epoch 50/60\n",
      "\u001b[1m32/32\u001b[0m \u001b[32m━━━━━━━━━━━━━━━━━━━━\u001b[0m\u001b[37m\u001b[0m \u001b[1m0s\u001b[0m 3ms/step - Accuracy: 0.8035 - loss: 0.4710 - val_Accuracy: 0.8246 - val_loss: 0.4125\n",
      "Epoch 51/60\n",
      "\u001b[1m32/32\u001b[0m \u001b[32m━━━━━━━━━━━━━━━━━━━━\u001b[0m\u001b[37m\u001b[0m \u001b[1m0s\u001b[0m 4ms/step - Accuracy: 0.7583 - loss: 0.5169 - val_Accuracy: 0.8246 - val_loss: 0.4144\n",
      "Epoch 52/60\n",
      "\u001b[1m32/32\u001b[0m \u001b[32m━━━━━━━━━━━━━━━━━━━━\u001b[0m\u001b[37m\u001b[0m \u001b[1m0s\u001b[0m 4ms/step - Accuracy: 0.8074 - loss: 0.4494 - val_Accuracy: 0.8209 - val_loss: 0.4149\n",
      "Epoch 53/60\n",
      "\u001b[1m32/32\u001b[0m \u001b[32m━━━━━━━━━━━━━━━━━━━━\u001b[0m\u001b[37m\u001b[0m \u001b[1m0s\u001b[0m 3ms/step - Accuracy: 0.7929 - loss: 0.4660 - val_Accuracy: 0.8209 - val_loss: 0.4154\n",
      "Epoch 54/60\n",
      "\u001b[1m32/32\u001b[0m \u001b[32m━━━━━━━━━━━━━━━━━━━━\u001b[0m\u001b[37m\u001b[0m \u001b[1m0s\u001b[0m 4ms/step - Accuracy: 0.8189 - loss: 0.4281 - val_Accuracy: 0.8209 - val_loss: 0.4132\n",
      "Epoch 55/60\n",
      "\u001b[1m32/32\u001b[0m \u001b[32m━━━━━━━━━━━━━━━━━━━━\u001b[0m\u001b[37m\u001b[0m \u001b[1m0s\u001b[0m 4ms/step - Accuracy: 0.7679 - loss: 0.4785 - val_Accuracy: 0.8209 - val_loss: 0.4120\n",
      "Epoch 56/60\n",
      "\u001b[1m32/32\u001b[0m \u001b[32m━━━━━━━━━━━━━━━━━━━━\u001b[0m\u001b[37m\u001b[0m \u001b[1m0s\u001b[0m 4ms/step - Accuracy: 0.8133 - loss: 0.4476 - val_Accuracy: 0.8134 - val_loss: 0.4143\n",
      "Epoch 57/60\n",
      "\u001b[1m32/32\u001b[0m \u001b[32m━━━━━━━━━━━━━━━━━━━━\u001b[0m\u001b[37m\u001b[0m \u001b[1m0s\u001b[0m 4ms/step - Accuracy: 0.8024 - loss: 0.4639 - val_Accuracy: 0.8134 - val_loss: 0.4136\n",
      "Epoch 58/60\n",
      "\u001b[1m32/32\u001b[0m \u001b[32m━━━━━━━━━━━━━━━━━━━━\u001b[0m\u001b[37m\u001b[0m \u001b[1m0s\u001b[0m 4ms/step - Accuracy: 0.8226 - loss: 0.4701 - val_Accuracy: 0.8246 - val_loss: 0.4136\n",
      "Epoch 59/60\n",
      "\u001b[1m32/32\u001b[0m \u001b[32m━━━━━━━━━━━━━━━━━━━━\u001b[0m\u001b[37m\u001b[0m \u001b[1m0s\u001b[0m 3ms/step - Accuracy: 0.8070 - loss: 0.4726 - val_Accuracy: 0.8209 - val_loss: 0.4118\n",
      "Epoch 60/60\n",
      "\u001b[1m32/32\u001b[0m \u001b[32m━━━━━━━━━━━━━━━━━━━━\u001b[0m\u001b[37m\u001b[0m \u001b[1m0s\u001b[0m 3ms/step - Accuracy: 0.7873 - loss: 0.4872 - val_Accuracy: 0.8209 - val_loss: 0.4127\n"
     ]
    },
    {
     "data": {
      "text/plain": [
       "<keras.src.callbacks.history.History at 0x7b9d6a706830>"
      ]
     },
     "execution_count": 16,
     "metadata": {},
     "output_type": "execute_result"
    }
   ],
   "source": [
    "model.fit(x=X_train, y=y_train, epochs=60, batch_size=20, validation_data=(X_test,y_test),verbose=1)"
   ]
  },
  {
   "cell_type": "markdown",
   "id": "8abd6644",
   "metadata": {
    "papermill": {
     "duration": 0.034325,
     "end_time": "2025-05-26T20:56:43.604466",
     "exception": false,
     "start_time": "2025-05-26T20:56:43.570141",
     "status": "completed"
    },
    "tags": []
   },
   "source": [
    "### Model Loss"
   ]
  },
  {
   "cell_type": "code",
   "execution_count": 17,
   "id": "b124017e",
   "metadata": {
    "execution": {
     "iopub.execute_input": "2025-05-26T20:56:43.656325Z",
     "iopub.status.busy": "2025-05-26T20:56:43.655738Z",
     "iopub.status.idle": "2025-05-26T20:56:43.670811Z",
     "shell.execute_reply": "2025-05-26T20:56:43.669377Z"
    },
    "papermill": {
     "duration": 0.042842,
     "end_time": "2025-05-26T20:56:43.673045",
     "exception": false,
     "start_time": "2025-05-26T20:56:43.630203",
     "status": "completed"
    },
    "tags": []
   },
   "outputs": [
    {
     "data": {
      "text/html": [
       "<div>\n",
       "<style scoped>\n",
       "    .dataframe tbody tr th:only-of-type {\n",
       "        vertical-align: middle;\n",
       "    }\n",
       "\n",
       "    .dataframe tbody tr th {\n",
       "        vertical-align: top;\n",
       "    }\n",
       "\n",
       "    .dataframe thead th {\n",
       "        text-align: right;\n",
       "    }\n",
       "</style>\n",
       "<table border=\"1\" class=\"dataframe\">\n",
       "  <thead>\n",
       "    <tr style=\"text-align: right;\">\n",
       "      <th></th>\n",
       "      <th>Accuracy</th>\n",
       "      <th>loss</th>\n",
       "      <th>val_Accuracy</th>\n",
       "      <th>val_loss</th>\n",
       "    </tr>\n",
       "  </thead>\n",
       "  <tbody>\n",
       "    <tr>\n",
       "      <th>0</th>\n",
       "      <td>0.475120</td>\n",
       "      <td>0.705954</td>\n",
       "      <td>0.541045</td>\n",
       "      <td>0.685619</td>\n",
       "    </tr>\n",
       "    <tr>\n",
       "      <th>1</th>\n",
       "      <td>0.592295</td>\n",
       "      <td>0.672218</td>\n",
       "      <td>0.641791</td>\n",
       "      <td>0.675771</td>\n",
       "    </tr>\n",
       "    <tr>\n",
       "      <th>2</th>\n",
       "      <td>0.650080</td>\n",
       "      <td>0.655600</td>\n",
       "      <td>0.652985</td>\n",
       "      <td>0.663841</td>\n",
       "    </tr>\n",
       "    <tr>\n",
       "      <th>3</th>\n",
       "      <td>0.672552</td>\n",
       "      <td>0.648496</td>\n",
       "      <td>0.667910</td>\n",
       "      <td>0.650968</td>\n",
       "    </tr>\n",
       "    <tr>\n",
       "      <th>4</th>\n",
       "      <td>0.654896</td>\n",
       "      <td>0.648110</td>\n",
       "      <td>0.701493</td>\n",
       "      <td>0.635391</td>\n",
       "    </tr>\n",
       "  </tbody>\n",
       "</table>\n",
       "</div>"
      ],
      "text/plain": [
       "   Accuracy      loss  val_Accuracy  val_loss\n",
       "0  0.475120  0.705954      0.541045  0.685619\n",
       "1  0.592295  0.672218      0.641791  0.675771\n",
       "2  0.650080  0.655600      0.652985  0.663841\n",
       "3  0.672552  0.648496      0.667910  0.650968\n",
       "4  0.654896  0.648110      0.701493  0.635391"
      ]
     },
     "execution_count": 17,
     "metadata": {},
     "output_type": "execute_result"
    }
   ],
   "source": [
    "history = pd.DataFrame(model.history.history)\n",
    "history.head()"
   ]
  },
  {
   "cell_type": "code",
   "execution_count": 18,
   "id": "226d8490",
   "metadata": {
    "execution": {
     "iopub.execute_input": "2025-05-26T20:56:43.718684Z",
     "iopub.status.busy": "2025-05-26T20:56:43.718173Z",
     "iopub.status.idle": "2025-05-26T20:56:44.112655Z",
     "shell.execute_reply": "2025-05-26T20:56:44.111520Z"
    },
    "papermill": {
     "duration": 0.419775,
     "end_time": "2025-05-26T20:56:44.114836",
     "exception": false,
     "start_time": "2025-05-26T20:56:43.695061",
     "status": "completed"
    },
    "tags": []
   },
   "outputs": [
    {
     "data": {
      "image/png": "[encoded data removed]",
      "text/plain": [
       "<Figure size 640x480 with 1 Axes>"
      ]
     },
     "metadata": {},
     "output_type": "display_data"
    }
   ],
   "source": [
    "import matplotlib.pyplot as plt\n",
    "\n",
    "plt.plot(history['loss'], label='Training Loss')\n",
    "plt.plot(history['val_loss'], label='Validation Loss')\n",
    "plt.title('Model Loss Over Epochs')\n",
    "plt.xlabel('Epoch')\n",
    "plt.ylabel('Loss')\n",
    "plt.legend()\n",
    "plt.grid(True)\n",
    "plt.show()"
   ]
  },
  {
   "cell_type": "markdown",
   "id": "f8fde0d6",
   "metadata": {
    "papermill": {
     "duration": 0.022403,
     "end_time": "2025-05-26T20:56:44.160532",
     "exception": false,
     "start_time": "2025-05-26T20:56:44.138129",
     "status": "completed"
    },
    "tags": []
   },
   "source": [
    "### Accuracy"
   ]
  },
  {
   "cell_type": "code",
   "execution_count": 19,
   "id": "07e8cdf8",
   "metadata": {
    "execution": {
     "iopub.execute_input": "2025-05-26T20:56:44.207999Z",
     "iopub.status.busy": "2025-05-26T20:56:44.207642Z",
     "iopub.status.idle": "2025-05-26T20:56:44.467686Z",
     "shell.execute_reply": "2025-05-26T20:56:44.466400Z"
    },
    "papermill": {
     "duration": 0.287154,
     "end_time": "2025-05-26T20:56:44.470291",
     "exception": false,
     "start_time": "2025-05-26T20:56:44.183137",
     "status": "completed"
    },
    "tags": []
   },
   "outputs": [
    {
     "data": {
      "image/png": "[encoded data removed]",
      "text/plain": [
       "<Figure size 640x480 with 1 Axes>"
      ]
     },
     "metadata": {},
     "output_type": "display_data"
    }
   ],
   "source": [
    "plt.plot(history['Accuracy'], label='Training Accuracy')\n",
    "plt.plot(history['val_Accuracy'], label='Validation Accuracy')\n",
    "plt.title('Model Accuracy Over Epochs')\n",
    "plt.xlabel('Epoch')\n",
    "plt.ylabel('Accuracy')\n",
    "plt.legend()\n",
    "plt.grid(True)\n",
    "plt.show()"
   ]
  },
  {
   "cell_type": "markdown",
   "id": "2d40fa82",
   "metadata": {
    "papermill": {
     "duration": 0.023778,
     "end_time": "2025-05-26T20:56:44.526828",
     "exception": false,
     "start_time": "2025-05-26T20:56:44.503050",
     "status": "completed"
    },
    "tags": []
   },
   "source": [
    "## Prediction From Test Data"
   ]
  },
  {
   "cell_type": "markdown",
   "id": "9136203f",
   "metadata": {
    "papermill": {
     "duration": 0.023587,
     "end_time": "2025-05-26T20:56:44.574311",
     "exception": false,
     "start_time": "2025-05-26T20:56:44.550724",
     "status": "completed"
    },
    "tags": []
   },
   "source": [
    "### Test Data Preprocessing"
   ]
  },
  {
   "cell_type": "markdown",
   "id": "f87db488",
   "metadata": {
    "papermill": {
     "duration": 0.026839,
     "end_time": "2025-05-26T20:56:44.626299",
     "exception": false,
     "start_time": "2025-05-26T20:56:44.599460",
     "status": "completed"
    },
    "tags": []
   },
   "source": [
    "NaN values filled, categorical values converted to float32 data type "
   ]
  },
  {
   "cell_type": "code",
   "execution_count": 20,
   "id": "a5e501b4",
   "metadata": {
    "execution": {
     "iopub.execute_input": "2025-05-26T20:56:44.674908Z",
     "iopub.status.busy": "2025-05-26T20:56:44.674505Z",
     "iopub.status.idle": "2025-05-26T20:56:44.683549Z",
     "shell.execute_reply": "2025-05-26T20:56:44.682379Z"
    },
    "papermill": {
     "duration": 0.035712,
     "end_time": "2025-05-26T20:56:44.685600",
     "exception": false,
     "start_time": "2025-05-26T20:56:44.649888",
     "status": "completed"
    },
    "tags": []
   },
   "outputs": [],
   "source": [
    "test_data['Age'] = test_data['Age'].fillna(train[\"Age\"].median())\n",
    "test_data['Fare'] = test_data['Fare'].fillna(train[\"Fare\"].median())\n",
    "test_data['Sex'] = test_data['Sex'].map({'male': 0, 'female': 1}).astype(np.float32)\n",
    "test_data[\"Fare\"] = np.log1p(test_data[\"Fare\"])"
   ]
  },
  {
   "cell_type": "code",
   "execution_count": 21,
   "id": "954cb8a5",
   "metadata": {
    "execution": {
     "iopub.execute_input": "2025-05-26T20:56:44.734129Z",
     "iopub.status.busy": "2025-05-26T20:56:44.733733Z",
     "iopub.status.idle": "2025-05-26T20:56:44.740311Z",
     "shell.execute_reply": "2025-05-26T20:56:44.739137Z"
    },
    "papermill": {
     "duration": 0.033996,
     "end_time": "2025-05-26T20:56:44.742964",
     "exception": false,
     "start_time": "2025-05-26T20:56:44.708968",
     "status": "completed"
    },
    "tags": []
   },
   "outputs": [],
   "source": [
    "X_test_feature = test_data[[\"Pclass\", \"Sex\", \"Age\", \"SibSp\", \"Parch\", \"Fare\", \"FamilySize\", \"IsAlone\",\"Title\"]].values.astype(np.float32)"
   ]
  },
  {
   "cell_type": "code",
   "execution_count": 22,
   "id": "25d33d0c",
   "metadata": {
    "execution": {
     "iopub.execute_input": "2025-05-26T20:56:44.797922Z",
     "iopub.status.busy": "2025-05-26T20:56:44.797417Z",
     "iopub.status.idle": "2025-05-26T20:56:44.803131Z",
     "shell.execute_reply": "2025-05-26T20:56:44.801946Z"
    },
    "papermill": {
     "duration": 0.033246,
     "end_time": "2025-05-26T20:56:44.805574",
     "exception": false,
     "start_time": "2025-05-26T20:56:44.772328",
     "status": "completed"
    },
    "tags": []
   },
   "outputs": [],
   "source": [
    "X_test_feature_scaled = scaler.transform(X_test_feature)"
   ]
  },
  {
   "cell_type": "markdown",
   "id": "9e4adae3",
   "metadata": {
    "papermill": {
     "duration": 0.024168,
     "end_time": "2025-05-26T20:56:44.860928",
     "exception": false,
     "start_time": "2025-05-26T20:56:44.836760",
     "status": "completed"
    },
    "tags": []
   },
   "source": [
    "### Prediction"
   ]
  },
  {
   "cell_type": "code",
   "execution_count": 23,
   "id": "7ef53ebe",
   "metadata": {
    "execution": {
     "iopub.execute_input": "2025-05-26T20:56:44.910221Z",
     "iopub.status.busy": "2025-05-26T20:56:44.909596Z",
     "iopub.status.idle": "2025-05-26T20:56:45.115697Z",
     "shell.execute_reply": "2025-05-26T20:56:45.114365Z"
    },
    "papermill": {
     "duration": 0.23317,
     "end_time": "2025-05-26T20:56:45.117776",
     "exception": false,
     "start_time": "2025-05-26T20:56:44.884606",
     "status": "completed"
    },
    "tags": []
   },
   "outputs": [
    {
     "name": "stdout",
     "output_type": "stream",
     "text": [
      "\u001b[1m14/14\u001b[0m \u001b[32m━━━━━━━━━━━━━━━━━━━━\u001b[0m\u001b[37m\u001b[0m \u001b[1m0s\u001b[0m 4ms/step \n"
     ]
    }
   ],
   "source": [
    "pred_prob = model.predict(X_test_feature_scaled)\n",
    "predictions = (pred_prob > 0.5).astype(int).reshape(-1)"
   ]
  },
  {
   "cell_type": "code",
   "execution_count": 24,
   "id": "6a9519e4",
   "metadata": {
    "execution": {
     "iopub.execute_input": "2025-05-26T20:56:45.170478Z",
     "iopub.status.busy": "2025-05-26T20:56:45.170043Z",
     "iopub.status.idle": "2025-05-26T20:56:45.184435Z",
     "shell.execute_reply": "2025-05-26T20:56:45.183009Z"
    },
    "papermill": {
     "duration": 0.04434,
     "end_time": "2025-05-26T20:56:45.186607",
     "exception": false,
     "start_time": "2025-05-26T20:56:45.142267",
     "status": "completed"
    },
    "tags": []
   },
   "outputs": [
    {
     "name": "stdout",
     "output_type": "stream",
     "text": [
      "✅ 'titanic_submission.csv' has created\n"
     ]
    }
   ],
   "source": [
    "submission_df = pd.DataFrame({\n",
    "    'PassengerId': test_data['PassengerId'],\n",
    "    'Survived': predictions\n",
    "})\n",
    "\n",
    "# Read to CSV\n",
    "submission_df.to_csv('titanic_submission.csv', index=False)\n",
    "print(\"✅ 'titanic_submission.csv' has created\")"
   ]
  }
 ],
 "metadata": {
  "kaggle": {
   "accelerator": "none",
   "dataSources": [
    {
     "databundleVersionId": 26502,
     "sourceId": 3136,
     "sourceType": "competition"
    }
   ],
   "dockerImageVersionId": 30918,
   "isGpuEnabled": false,
   "isInternetEnabled": true,
   "language": "python",
   "sourceType": "notebook"
  },
  "kernelspec": {
   "display_name": "Python 3",
   "language": "python",
   "name": "python3"
  },
  "language_info": {
   "codemirror_mode": {
    "name": "ipython",
    "version": 3
   },
   "file_extension": ".py",
   "mimetype": "text/x-python",
   "name": "python",
   "nbconvert_exporter": "python",
   "pygments_lexer": "ipython3",
   "version": "3.10.12"
  },
  "papermill": {
   "default_parameters": {},
   "duration": 39.924249,
   "end_time": "2025-05-26T20:56:47.035957",
   "environment_variables": {},
   "exception": null,
   "input_path": "__notebook__.ipynb",
   "output_path": "__notebook__.ipynb",
   "parameters": {},
   "start_time": "2025-05-26T20:56:07.111708",
   "version": "2.6.0"
  }
 },
 "nbformat": 4,
 "nbformat_minor": 5
}
