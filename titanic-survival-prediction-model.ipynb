{
 "cells": [
  {
   "cell_type": "markdown",
   "id": "eb8f9367",
   "metadata": {
    "papermill": {
     "duration": 0.006463,
     "end_time": "2025-04-12T11:21:22.623390",
     "exception": false,
     "start_time": "2025-04-12T11:21:22.616927",
     "status": "completed"
    },
    "tags": []
   },
   "source": [
    "## Titanic Competition with Neural Networks"
   ]
  },
  {
   "cell_type": "code",
   "execution_count": null,
   "id": "58b146ec",
   "metadata": {
    "_cell_guid": "b1076dfc-b9ad-4769-8c92-a6c4dae69d19",
    "_uuid": "8f2839f25d086af736a60e9eeb907d3b93b6e0e5",
    "execution": {
     "iopub.execute_input": "2025-04-12T11:21:22.636482Z",
     "iopub.status.busy": "2025-04-12T11:21:22.636105Z",
     "iopub.status.idle": "2025-04-12T11:21:38.561598Z",
     "shell.execute_reply": "2025-04-12T11:21:38.560444Z"
    },
    "papermill": {
     "duration": 15.9341,
     "end_time": "2025-04-12T11:21:38.563478",
     "exception": false,
     "start_time": "2025-04-12T11:21:22.629378",
     "status": "completed"
    },
    "tags": []
   },
   "outputs": [
    {
     "name": "stdout",
     "output_type": "stream",
     "text": [
      "/kaggle/input/titanic/train.csv\n",
      "/kaggle/input/titanic/test.csv\n",
      "/kaggle/input/titanic/gender_submission.csv\n"
     ]
    }
   ],
   "source": [
    "import numpy as np\n",
    "import pandas as pd\n",
    "from tensorflow.keras.models import Sequential\n",
    "from tensorflow.keras.layers import Dense\n",
    "from sklearn.model_selection import train_test_split\n",
    "from sklearn.preprocessing import StandardScaler\n",
    "\n",
    "import os\n",
    "for dirname, _, filenames in os.walk('data'):\n",
    "    for filename in filenames:\n",
    "        print(os.path.join(dirname, filename))"
   ]
  },
  {
   "cell_type": "markdown",
   "id": "915c8a89",
   "metadata": {
    "papermill": {
     "duration": 0.005548,
     "end_time": "2025-04-12T11:21:38.575245",
     "exception": false,
     "start_time": "2025-04-12T11:21:38.569697",
     "status": "completed"
    },
    "tags": []
   },
   "source": [
    "## Read Data"
   ]
  },
  {
   "cell_type": "code",
   "execution_count": null,
   "id": "07a75829",
   "metadata": {
    "execution": {
     "iopub.execute_input": "2025-04-12T11:21:38.587846Z",
     "iopub.status.busy": "2025-04-12T11:21:38.587242Z",
     "iopub.status.idle": "2025-04-12T11:21:38.635948Z",
     "shell.execute_reply": "2025-04-12T11:21:38.634870Z"
    },
    "papermill": {
     "duration": 0.056749,
     "end_time": "2025-04-12T11:21:38.637592",
     "exception": false,
     "start_time": "2025-04-12T11:21:38.580843",
     "status": "completed"
    },
    "tags": []
   },
   "outputs": [
    {
     "data": {
      "text/html": [
       "<div>\n",
       "<style scoped>\n",
       "    .dataframe tbody tr th:only-of-type {\n",
       "        vertical-align: middle;\n",
       "    }\n",
       "\n",
       "    .dataframe tbody tr th {\n",
       "        vertical-align: top;\n",
       "    }\n",
       "\n",
       "    .dataframe thead th {\n",
       "        text-align: right;\n",
       "    }\n",
       "</style>\n",
       "<table border=\"1\" class=\"dataframe\">\n",
       "  <thead>\n",
       "    <tr style=\"text-align: right;\">\n",
       "      <th></th>\n",
       "      <th>PassengerId</th>\n",
       "      <th>Survived</th>\n",
       "      <th>Pclass</th>\n",
       "      <th>Name</th>\n",
       "      <th>Sex</th>\n",
       "      <th>Age</th>\n",
       "      <th>SibSp</th>\n",
       "      <th>Parch</th>\n",
       "      <th>Ticket</th>\n",
       "      <th>Fare</th>\n",
       "      <th>Cabin</th>\n",
       "      <th>Embarked</th>\n",
       "    </tr>\n",
       "  </thead>\n",
       "  <tbody>\n",
       "    <tr>\n",
       "      <th>0</th>\n",
       "      <td>1</td>\n",
       "      <td>0</td>\n",
       "      <td>3</td>\n",
       "      <td>Braund, Mr. Owen Harris</td>\n",
       "      <td>male</td>\n",
       "      <td>22.0</td>\n",
       "      <td>1</td>\n",
       "      <td>0</td>\n",
       "      <td>A/5 21171</td>\n",
       "      <td>7.2500</td>\n",
       "      <td>NaN</td>\n",
       "      <td>S</td>\n",
       "    </tr>\n",
       "    <tr>\n",
       "      <th>1</th>\n",
       "      <td>2</td>\n",
       "      <td>1</td>\n",
       "      <td>1</td>\n",
       "      <td>Cumings, Mrs. John Bradley (Florence Briggs Th...</td>\n",
       "      <td>female</td>\n",
       "      <td>38.0</td>\n",
       "      <td>1</td>\n",
       "      <td>0</td>\n",
       "      <td>PC 17599</td>\n",
       "      <td>71.2833</td>\n",
       "      <td>C85</td>\n",
       "      <td>C</td>\n",
       "    </tr>\n",
       "    <tr>\n",
       "      <th>2</th>\n",
       "      <td>3</td>\n",
       "      <td>1</td>\n",
       "      <td>3</td>\n",
       "      <td>Heikkinen, Miss. Laina</td>\n",
       "      <td>female</td>\n",
       "      <td>26.0</td>\n",
       "      <td>0</td>\n",
       "      <td>0</td>\n",
       "      <td>STON/O2. 3101282</td>\n",
       "      <td>7.9250</td>\n",
       "      <td>NaN</td>\n",
       "      <td>S</td>\n",
       "    </tr>\n",
       "    <tr>\n",
       "      <th>3</th>\n",
       "      <td>4</td>\n",
       "      <td>1</td>\n",
       "      <td>1</td>\n",
       "      <td>Futrelle, Mrs. Jacques Heath (Lily May Peel)</td>\n",
       "      <td>female</td>\n",
       "      <td>35.0</td>\n",
       "      <td>1</td>\n",
       "      <td>0</td>\n",
       "      <td>113803</td>\n",
       "      <td>53.1000</td>\n",
       "      <td>C123</td>\n",
       "      <td>S</td>\n",
       "    </tr>\n",
       "    <tr>\n",
       "      <th>4</th>\n",
       "      <td>5</td>\n",
       "      <td>0</td>\n",
       "      <td>3</td>\n",
       "      <td>Allen, Mr. William Henry</td>\n",
       "      <td>male</td>\n",
       "      <td>35.0</td>\n",
       "      <td>0</td>\n",
       "      <td>0</td>\n",
       "      <td>373450</td>\n",
       "      <td>8.0500</td>\n",
       "      <td>NaN</td>\n",
       "      <td>S</td>\n",
       "    </tr>\n",
       "  </tbody>\n",
       "</table>\n",
       "</div>"
      ],
      "text/plain": [
       "   PassengerId  Survived  Pclass  \\\n",
       "0            1         0       3   \n",
       "1            2         1       1   \n",
       "2            3         1       3   \n",
       "3            4         1       1   \n",
       "4            5         0       3   \n",
       "\n",
       "                                                Name     Sex   Age  SibSp  \\\n",
       "0                            Braund, Mr. Owen Harris    male  22.0      1   \n",
       "1  Cumings, Mrs. John Bradley (Florence Briggs Th...  female  38.0      1   \n",
       "2                             Heikkinen, Miss. Laina  female  26.0      0   \n",
       "3       Futrelle, Mrs. Jacques Heath (Lily May Peel)  female  35.0      1   \n",
       "4                           Allen, Mr. William Henry    male  35.0      0   \n",
       "\n",
       "   Parch            Ticket     Fare Cabin Embarked  \n",
       "0      0         A/5 21171   7.2500   NaN        S  \n",
       "1      0          PC 17599  71.2833   C85        C  \n",
       "2      0  STON/O2. 3101282   7.9250   NaN        S  \n",
       "3      0            113803  53.1000  C123        S  \n",
       "4      0            373450   8.0500   NaN        S  "
      ]
     },
     "execution_count": 2,
     "metadata": {},
     "output_type": "execute_result"
    }
   ],
   "source": [
    "train_data = pd.read_csv(\"data/train.csv\")\n",
    "train_data.head()"
   ]
  },
  {
   "cell_type": "code",
   "execution_count": null,
   "id": "e834a1fa",
   "metadata": {
    "execution": {
     "iopub.execute_input": "2025-04-12T11:21:38.650599Z",
     "iopub.status.busy": "2025-04-12T11:21:38.650289Z",
     "iopub.status.idle": "2025-04-12T11:21:38.668062Z",
     "shell.execute_reply": "2025-04-12T11:21:38.667066Z"
    },
    "papermill": {
     "duration": 0.026083,
     "end_time": "2025-04-12T11:21:38.669709",
     "exception": false,
     "start_time": "2025-04-12T11:21:38.643626",
     "status": "completed"
    },
    "tags": []
   },
   "outputs": [
    {
     "data": {
      "text/html": [
       "<div>\n",
       "<style scoped>\n",
       "    .dataframe tbody tr th:only-of-type {\n",
       "        vertical-align: middle;\n",
       "    }\n",
       "\n",
       "    .dataframe tbody tr th {\n",
       "        vertical-align: top;\n",
       "    }\n",
       "\n",
       "    .dataframe thead th {\n",
       "        text-align: right;\n",
       "    }\n",
       "</style>\n",
       "<table border=\"1\" class=\"dataframe\">\n",
       "  <thead>\n",
       "    <tr style=\"text-align: right;\">\n",
       "      <th></th>\n",
       "      <th>PassengerId</th>\n",
       "      <th>Pclass</th>\n",
       "      <th>Name</th>\n",
       "      <th>Sex</th>\n",
       "      <th>Age</th>\n",
       "      <th>SibSp</th>\n",
       "      <th>Parch</th>\n",
       "      <th>Ticket</th>\n",
       "      <th>Fare</th>\n",
       "      <th>Cabin</th>\n",
       "      <th>Embarked</th>\n",
       "    </tr>\n",
       "  </thead>\n",
       "  <tbody>\n",
       "    <tr>\n",
       "      <th>0</th>\n",
       "      <td>892</td>\n",
       "      <td>3</td>\n",
       "      <td>Kelly, Mr. James</td>\n",
       "      <td>male</td>\n",
       "      <td>34.5</td>\n",
       "      <td>0</td>\n",
       "      <td>0</td>\n",
       "      <td>330911</td>\n",
       "      <td>7.8292</td>\n",
       "      <td>NaN</td>\n",
       "      <td>Q</td>\n",
       "    </tr>\n",
       "    <tr>\n",
       "      <th>1</th>\n",
       "      <td>893</td>\n",
       "      <td>3</td>\n",
       "      <td>Wilkes, Mrs. James (Ellen Needs)</td>\n",
       "      <td>female</td>\n",
       "      <td>47.0</td>\n",
       "      <td>1</td>\n",
       "      <td>0</td>\n",
       "      <td>363272</td>\n",
       "      <td>7.0000</td>\n",
       "      <td>NaN</td>\n",
       "      <td>S</td>\n",
       "    </tr>\n",
       "    <tr>\n",
       "      <th>2</th>\n",
       "      <td>894</td>\n",
       "      <td>2</td>\n",
       "      <td>Myles, Mr. Thomas Francis</td>\n",
       "      <td>male</td>\n",
       "      <td>62.0</td>\n",
       "      <td>0</td>\n",
       "      <td>0</td>\n",
       "      <td>240276</td>\n",
       "      <td>9.6875</td>\n",
       "      <td>NaN</td>\n",
       "      <td>Q</td>\n",
       "    </tr>\n",
       "    <tr>\n",
       "      <th>3</th>\n",
       "      <td>895</td>\n",
       "      <td>3</td>\n",
       "      <td>Wirz, Mr. Albert</td>\n",
       "      <td>male</td>\n",
       "      <td>27.0</td>\n",
       "      <td>0</td>\n",
       "      <td>0</td>\n",
       "      <td>315154</td>\n",
       "      <td>8.6625</td>\n",
       "      <td>NaN</td>\n",
       "      <td>S</td>\n",
       "    </tr>\n",
       "    <tr>\n",
       "      <th>4</th>\n",
       "      <td>896</td>\n",
       "      <td>3</td>\n",
       "      <td>Hirvonen, Mrs. Alexander (Helga E Lindqvist)</td>\n",
       "      <td>female</td>\n",
       "      <td>22.0</td>\n",
       "      <td>1</td>\n",
       "      <td>1</td>\n",
       "      <td>3101298</td>\n",
       "      <td>12.2875</td>\n",
       "      <td>NaN</td>\n",
       "      <td>S</td>\n",
       "    </tr>\n",
       "  </tbody>\n",
       "</table>\n",
       "</div>"
      ],
      "text/plain": [
       "   PassengerId  Pclass                                          Name     Sex  \\\n",
       "0          892       3                              Kelly, Mr. James    male   \n",
       "1          893       3              Wilkes, Mrs. James (Ellen Needs)  female   \n",
       "2          894       2                     Myles, Mr. Thomas Francis    male   \n",
       "3          895       3                              Wirz, Mr. Albert    male   \n",
       "4          896       3  Hirvonen, Mrs. Alexander (Helga E Lindqvist)  female   \n",
       "\n",
       "    Age  SibSp  Parch   Ticket     Fare Cabin Embarked  \n",
       "0  34.5      0      0   330911   7.8292   NaN        Q  \n",
       "1  47.0      1      0   363272   7.0000   NaN        S  \n",
       "2  62.0      0      0   240276   9.6875   NaN        Q  \n",
       "3  27.0      0      0   315154   8.6625   NaN        S  \n",
       "4  22.0      1      1  3101298  12.2875   NaN        S  "
      ]
     },
     "execution_count": 3,
     "metadata": {},
     "output_type": "execute_result"
    }
   ],
   "source": [
    "test_data = pd.read_csv(\"data/test.csv\")\n",
    "test_data.head()"
   ]
  },
  {
   "cell_type": "markdown",
   "id": "2547dbb4",
   "metadata": {
    "papermill": {
     "duration": 0.006041,
     "end_time": "2025-04-12T11:21:38.682079",
     "exception": false,
     "start_time": "2025-04-12T11:21:38.676038",
     "status": "completed"
    },
    "tags": []
   },
   "source": [
    "## Train Data Preprocessing"
   ]
  },
  {
   "cell_type": "markdown",
   "id": "4f03d3a4",
   "metadata": {
    "papermill": {
     "duration": 0.005768,
     "end_time": "2025-04-12T11:21:38.694022",
     "exception": false,
     "start_time": "2025-04-12T11:21:38.688254",
     "status": "completed"
    },
    "tags": []
   },
   "source": [
    "### Recognize Data"
   ]
  },
  {
   "cell_type": "code",
   "execution_count": 4,
   "id": "2e170514",
   "metadata": {
    "execution": {
     "iopub.execute_input": "2025-04-12T11:21:38.707749Z",
     "iopub.status.busy": "2025-04-12T11:21:38.707377Z",
     "iopub.status.idle": "2025-04-12T11:21:38.720316Z",
     "shell.execute_reply": "2025-04-12T11:21:38.719415Z"
    },
    "papermill": {
     "duration": 0.021699,
     "end_time": "2025-04-12T11:21:38.721995",
     "exception": false,
     "start_time": "2025-04-12T11:21:38.700296",
     "status": "completed"
    },
    "tags": []
   },
   "outputs": [],
   "source": [
    "train = train_data[[\"Survived\",\"Pclass\",\"Sex\",\"Age\",\"SibSp\",\"Parch\",\"Fare\"]]"
   ]
  },
  {
   "cell_type": "code",
   "execution_count": 5,
   "id": "a4d53143",
   "metadata": {
    "execution": {
     "iopub.execute_input": "2025-04-12T11:21:38.736115Z",
     "iopub.status.busy": "2025-04-12T11:21:38.735717Z",
     "iopub.status.idle": "2025-04-12T11:21:38.742132Z",
     "shell.execute_reply": "2025-04-12T11:21:38.740938Z"
    },
    "papermill": {
     "duration": 0.015209,
     "end_time": "2025-04-12T11:21:38.743710",
     "exception": false,
     "start_time": "2025-04-12T11:21:38.728501",
     "status": "completed"
    },
    "tags": []
   },
   "outputs": [
    {
     "name": "stderr",
     "output_type": "stream",
     "text": [
      "<ipython-input-5-7a3eb368159b>:1: SettingWithCopyWarning: \n",
      "A value is trying to be set on a copy of a slice from a DataFrame.\n",
      "Try using .loc[row_indexer,col_indexer] = value instead\n",
      "\n",
      "See the caveats in the documentation: https://pandas.pydata.org/pandas-docs/stable/user_guide/indexing.html#returning-a-view-versus-a-copy\n",
      "  train[\"Age\"] = train[\"Age\"].fillna(train[\"Age\"].median())\n"
     ]
    }
   ],
   "source": [
    "train[\"Age\"] = train[\"Age\"].fillna(train[\"Age\"].median())"
   ]
  },
  {
   "cell_type": "code",
   "execution_count": 6,
   "id": "9c268c69",
   "metadata": {
    "execution": {
     "iopub.execute_input": "2025-04-12T11:21:38.757474Z",
     "iopub.status.busy": "2025-04-12T11:21:38.757080Z",
     "iopub.status.idle": "2025-04-12T11:21:38.765375Z",
     "shell.execute_reply": "2025-04-12T11:21:38.764255Z"
    },
    "papermill": {
     "duration": 0.016775,
     "end_time": "2025-04-12T11:21:38.766852",
     "exception": false,
     "start_time": "2025-04-12T11:21:38.750077",
     "status": "completed"
    },
    "tags": []
   },
   "outputs": [
    {
     "data": {
      "text/plain": [
       "Survived    0\n",
       "Pclass      0\n",
       "Sex         0\n",
       "Age         0\n",
       "SibSp       0\n",
       "Parch       0\n",
       "Fare        0\n",
       "dtype: int64"
      ]
     },
     "execution_count": 6,
     "metadata": {},
     "output_type": "execute_result"
    }
   ],
   "source": [
    "train.isna().sum()"
   ]
  },
  {
   "cell_type": "code",
   "execution_count": 7,
   "id": "f379c811",
   "metadata": {
    "execution": {
     "iopub.execute_input": "2025-04-12T11:21:38.780726Z",
     "iopub.status.busy": "2025-04-12T11:21:38.780413Z",
     "iopub.status.idle": "2025-04-12T11:21:38.787070Z",
     "shell.execute_reply": "2025-04-12T11:21:38.785843Z"
    },
    "papermill": {
     "duration": 0.015404,
     "end_time": "2025-04-12T11:21:38.788714",
     "exception": false,
     "start_time": "2025-04-12T11:21:38.773310",
     "status": "completed"
    },
    "tags": []
   },
   "outputs": [
    {
     "name": "stderr",
     "output_type": "stream",
     "text": [
      "<ipython-input-7-d498d209afeb>:1: SettingWithCopyWarning: \n",
      "A value is trying to be set on a copy of a slice from a DataFrame.\n",
      "Try using .loc[row_indexer,col_indexer] = value instead\n",
      "\n",
      "See the caveats in the documentation: https://pandas.pydata.org/pandas-docs/stable/user_guide/indexing.html#returning-a-view-versus-a-copy\n",
      "  train[\"Sex\"] = train[\"Sex\"].map({'male':0,'female':1}).astype(np.float32)\n"
     ]
    }
   ],
   "source": [
    "train[\"Sex\"] = train[\"Sex\"].map({'male':0,'female':1}).astype(np.float32)"
   ]
  },
  {
   "cell_type": "code",
   "execution_count": 8,
   "id": "a481b5cf",
   "metadata": {
    "execution": {
     "iopub.execute_input": "2025-04-12T11:21:38.803349Z",
     "iopub.status.busy": "2025-04-12T11:21:38.802991Z",
     "iopub.status.idle": "2025-04-12T11:21:38.808200Z",
     "shell.execute_reply": "2025-04-12T11:21:38.807348Z"
    },
    "papermill": {
     "duration": 0.014278,
     "end_time": "2025-04-12T11:21:38.809778",
     "exception": false,
     "start_time": "2025-04-12T11:21:38.795500",
     "status": "completed"
    },
    "tags": []
   },
   "outputs": [],
   "source": [
    "X = train.drop(\"Survived\", axis=1).values.astype(np.float32)\n",
    "y = train[\"Survived\"].values.astype(np.float32)"
   ]
  },
  {
   "cell_type": "markdown",
   "id": "e3da0214",
   "metadata": {
    "papermill": {
     "duration": 0.00619,
     "end_time": "2025-04-12T11:21:38.822560",
     "exception": false,
     "start_time": "2025-04-12T11:21:38.816370",
     "status": "completed"
    },
    "tags": []
   },
   "source": [
    "### Transform Data"
   ]
  },
  {
   "cell_type": "code",
   "execution_count": 9,
   "id": "5aebcc19",
   "metadata": {
    "execution": {
     "iopub.execute_input": "2025-04-12T11:21:38.836790Z",
     "iopub.status.busy": "2025-04-12T11:21:38.836465Z",
     "iopub.status.idle": "2025-04-12T11:21:38.841307Z",
     "shell.execute_reply": "2025-04-12T11:21:38.840437Z"
    },
    "papermill": {
     "duration": 0.013836,
     "end_time": "2025-04-12T11:21:38.842904",
     "exception": false,
     "start_time": "2025-04-12T11:21:38.829068",
     "status": "completed"
    },
    "tags": []
   },
   "outputs": [],
   "source": [
    "X_train, X_test, y_train, y_test = train_test_split(\n",
    "    X, y, test_size=0.2, random_state=42)"
   ]
  },
  {
   "cell_type": "code",
   "execution_count": 10,
   "id": "014a5ab8",
   "metadata": {
    "execution": {
     "iopub.execute_input": "2025-04-12T11:21:38.857172Z",
     "iopub.status.busy": "2025-04-12T11:21:38.856778Z",
     "iopub.status.idle": "2025-04-12T11:21:38.862990Z",
     "shell.execute_reply": "2025-04-12T11:21:38.861980Z"
    },
    "papermill": {
     "duration": 0.015055,
     "end_time": "2025-04-12T11:21:38.864581",
     "exception": false,
     "start_time": "2025-04-12T11:21:38.849526",
     "status": "completed"
    },
    "tags": []
   },
   "outputs": [],
   "source": [
    "scaler = StandardScaler()\n",
    "\n",
    "X_train = scaler.fit_transform(X_train)\n",
    "X_test = scaler.transform(X_test)"
   ]
  },
  {
   "cell_type": "markdown",
   "id": "39e1aef7",
   "metadata": {
    "papermill": {
     "duration": 0.005975,
     "end_time": "2025-04-12T11:21:38.877006",
     "exception": false,
     "start_time": "2025-04-12T11:21:38.871031",
     "status": "completed"
    },
    "tags": []
   },
   "source": [
    "## Model Defining\n",
    "\n",
    "Creating a nn model to predict survivors "
   ]
  },
  {
   "cell_type": "code",
   "execution_count": 11,
   "id": "2434461a",
   "metadata": {
    "execution": {
     "iopub.execute_input": "2025-04-12T11:21:38.890562Z",
     "iopub.status.busy": "2025-04-12T11:21:38.890248Z",
     "iopub.status.idle": "2025-04-12T11:21:38.946145Z",
     "shell.execute_reply": "2025-04-12T11:21:38.945048Z"
    },
    "papermill": {
     "duration": 0.064784,
     "end_time": "2025-04-12T11:21:38.948027",
     "exception": false,
     "start_time": "2025-04-12T11:21:38.883243",
     "status": "completed"
    },
    "tags": []
   },
   "outputs": [],
   "source": [
    "model = Sequential()\n",
    "\n",
    "model.add(Dense(units = 3, activation=\"relu\"))\n",
    "model.add(Dense(units = 5, activation=\"relu\"))\n",
    "model.add(Dense(units = 5, activation=\"relu\"))\n",
    "\n",
    "model.add(Dense(units = 1, activation=\"sigmoid\"))\n",
    "\n",
    "model.compile(loss=\"binary_crossentropy\",optimizer=\"adam\", metrics=[\"Accuracy\"])"
   ]
  },
  {
   "cell_type": "code",
   "execution_count": 12,
   "id": "cb814917",
   "metadata": {
    "execution": {
     "iopub.execute_input": "2025-04-12T11:21:38.962307Z",
     "iopub.status.busy": "2025-04-12T11:21:38.961962Z",
     "iopub.status.idle": "2025-04-12T11:22:07.103352Z",
     "shell.execute_reply": "2025-04-12T11:22:07.102357Z"
    },
    "papermill": {
     "duration": 28.150291,
     "end_time": "2025-04-12T11:22:07.105067",
     "exception": false,
     "start_time": "2025-04-12T11:21:38.954776",
     "status": "completed"
    },
    "tags": []
   },
   "outputs": [
    {
     "name": "stdout",
     "output_type": "stream",
     "text": [
      "Epoch 1/100\n",
      "\u001b[1m143/143\u001b[0m \u001b[32m━━━━━━━━━━━━━━━━━━━━\u001b[0m\u001b[37m\u001b[0m \u001b[1m2s\u001b[0m 3ms/step - Accuracy: 0.6028 - loss: 0.6851 - val_Accuracy: 0.5866 - val_loss: 0.6668\n",
      "Epoch 2/100\n",
      "\u001b[1m143/143\u001b[0m \u001b[32m━━━━━━━━━━━━━━━━━━━━\u001b[0m\u001b[37m\u001b[0m \u001b[1m0s\u001b[0m 2ms/step - Accuracy: 0.6139 - loss: 0.6594 - val_Accuracy: 0.5922 - val_loss: 0.6391\n",
      "Epoch 3/100\n",
      "\u001b[1m143/143\u001b[0m \u001b[32m━━━━━━━━━━━━━━━━━━━━\u001b[0m\u001b[37m\u001b[0m \u001b[1m0s\u001b[0m 2ms/step - Accuracy: 0.6365 - loss: 0.6365 - val_Accuracy: 0.6592 - val_loss: 0.6092\n",
      "Epoch 4/100\n",
      "\u001b[1m143/143\u001b[0m \u001b[32m━━━━━━━━━━━━━━━━━━━━\u001b[0m\u001b[37m\u001b[0m \u001b[1m0s\u001b[0m 2ms/step - Accuracy: 0.6834 - loss: 0.6117 - val_Accuracy: 0.6704 - val_loss: 0.5719\n",
      "Epoch 5/100\n",
      "\u001b[1m143/143\u001b[0m \u001b[32m━━━━━━━━━━━━━━━━━━━━\u001b[0m\u001b[37m\u001b[0m \u001b[1m0s\u001b[0m 2ms/step - Accuracy: 0.7173 - loss: 0.5674 - val_Accuracy: 0.7095 - val_loss: 0.5315\n",
      "Epoch 6/100\n",
      "\u001b[1m143/143\u001b[0m \u001b[32m━━━━━━━━━━━━━━━━━━━━\u001b[0m\u001b[37m\u001b[0m \u001b[1m0s\u001b[0m 2ms/step - Accuracy: 0.7728 - loss: 0.5048 - val_Accuracy: 0.7430 - val_loss: 0.4980\n",
      "Epoch 7/100\n",
      "\u001b[1m143/143\u001b[0m \u001b[32m━━━━━━━━━━━━━━━━━━━━\u001b[0m\u001b[37m\u001b[0m \u001b[1m0s\u001b[0m 2ms/step - Accuracy: 0.7456 - loss: 0.5260 - val_Accuracy: 0.7598 - val_loss: 0.4729\n",
      "Epoch 8/100\n",
      "\u001b[1m143/143\u001b[0m \u001b[32m━━━━━━━━━━━━━━━━━━━━\u001b[0m\u001b[37m\u001b[0m \u001b[1m0s\u001b[0m 2ms/step - Accuracy: 0.7998 - loss: 0.4568 - val_Accuracy: 0.7933 - val_loss: 0.4601\n",
      "Epoch 9/100\n",
      "\u001b[1m143/143\u001b[0m \u001b[32m━━━━━━━━━━━━━━━━━━━━\u001b[0m\u001b[37m\u001b[0m \u001b[1m0s\u001b[0m 2ms/step - Accuracy: 0.7911 - loss: 0.4650 - val_Accuracy: 0.7933 - val_loss: 0.4531\n",
      "Epoch 10/100\n",
      "\u001b[1m143/143\u001b[0m \u001b[32m━━━━━━━━━━━━━━━━━━━━\u001b[0m\u001b[37m\u001b[0m \u001b[1m0s\u001b[0m 2ms/step - Accuracy: 0.7810 - loss: 0.4746 - val_Accuracy: 0.7877 - val_loss: 0.4480\n",
      "Epoch 11/100\n",
      "\u001b[1m143/143\u001b[0m \u001b[32m━━━━━━━━━━━━━━━━━━━━\u001b[0m\u001b[37m\u001b[0m \u001b[1m0s\u001b[0m 2ms/step - Accuracy: 0.8146 - loss: 0.4265 - val_Accuracy: 0.7989 - val_loss: 0.4438\n",
      "Epoch 12/100\n",
      "\u001b[1m143/143\u001b[0m \u001b[32m━━━━━━━━━━━━━━━━━━━━\u001b[0m\u001b[37m\u001b[0m \u001b[1m0s\u001b[0m 2ms/step - Accuracy: 0.8075 - loss: 0.4485 - val_Accuracy: 0.7933 - val_loss: 0.4417\n",
      "Epoch 13/100\n",
      "\u001b[1m143/143\u001b[0m \u001b[32m━━━━━━━━━━━━━━━━━━━━\u001b[0m\u001b[37m\u001b[0m \u001b[1m0s\u001b[0m 2ms/step - Accuracy: 0.7900 - loss: 0.4601 - val_Accuracy: 0.7989 - val_loss: 0.4393\n",
      "Epoch 14/100\n",
      "\u001b[1m143/143\u001b[0m \u001b[32m━━━━━━━━━━━━━━━━━━━━\u001b[0m\u001b[37m\u001b[0m \u001b[1m0s\u001b[0m 2ms/step - Accuracy: 0.8327 - loss: 0.4192 - val_Accuracy: 0.7989 - val_loss: 0.4375\n",
      "Epoch 15/100\n",
      "\u001b[1m143/143\u001b[0m \u001b[32m━━━━━━━━━━━━━━━━━━━━\u001b[0m\u001b[37m\u001b[0m \u001b[1m0s\u001b[0m 2ms/step - Accuracy: 0.7986 - loss: 0.4577 - val_Accuracy: 0.7933 - val_loss: 0.4359\n",
      "Epoch 16/100\n",
      "\u001b[1m143/143\u001b[0m \u001b[32m━━━━━━━━━━━━━━━━━━━━\u001b[0m\u001b[37m\u001b[0m \u001b[1m0s\u001b[0m 2ms/step - Accuracy: 0.8073 - loss: 0.4357 - val_Accuracy: 0.7989 - val_loss: 0.4353\n",
      "Epoch 17/100\n",
      "\u001b[1m143/143\u001b[0m \u001b[32m━━━━━━━━━━━━━━━━━━━━\u001b[0m\u001b[37m\u001b[0m \u001b[1m0s\u001b[0m 2ms/step - Accuracy: 0.8257 - loss: 0.4239 - val_Accuracy: 0.7933 - val_loss: 0.4353\n",
      "Epoch 18/100\n",
      "\u001b[1m143/143\u001b[0m \u001b[32m━━━━━━━━━━━━━━━━━━━━\u001b[0m\u001b[37m\u001b[0m \u001b[1m0s\u001b[0m 2ms/step - Accuracy: 0.8050 - loss: 0.4214 - val_Accuracy: 0.7989 - val_loss: 0.4345\n",
      "Epoch 19/100\n",
      "\u001b[1m143/143\u001b[0m \u001b[32m━━━━━━━━━━━━━━━━━━━━\u001b[0m\u001b[37m\u001b[0m \u001b[1m0s\u001b[0m 2ms/step - Accuracy: 0.8102 - loss: 0.4212 - val_Accuracy: 0.7989 - val_loss: 0.4330\n",
      "Epoch 20/100\n",
      "\u001b[1m143/143\u001b[0m \u001b[32m━━━━━━━━━━━━━━━━━━━━\u001b[0m\u001b[37m\u001b[0m \u001b[1m0s\u001b[0m 2ms/step - Accuracy: 0.8106 - loss: 0.4259 - val_Accuracy: 0.7989 - val_loss: 0.4323\n",
      "Epoch 21/100\n",
      "\u001b[1m143/143\u001b[0m \u001b[32m━━━━━━━━━━━━━━━━━━━━\u001b[0m\u001b[37m\u001b[0m \u001b[1m0s\u001b[0m 2ms/step - Accuracy: 0.7964 - loss: 0.4406 - val_Accuracy: 0.7989 - val_loss: 0.4326\n",
      "Epoch 22/100\n",
      "\u001b[1m143/143\u001b[0m \u001b[32m━━━━━━━━━━━━━━━━━━━━\u001b[0m\u001b[37m\u001b[0m \u001b[1m0s\u001b[0m 2ms/step - Accuracy: 0.8106 - loss: 0.4460 - val_Accuracy: 0.7989 - val_loss: 0.4325\n",
      "Epoch 23/100\n",
      "\u001b[1m143/143\u001b[0m \u001b[32m━━━━━━━━━━━━━━━━━━━━\u001b[0m\u001b[37m\u001b[0m \u001b[1m0s\u001b[0m 2ms/step - Accuracy: 0.8259 - loss: 0.4148 - val_Accuracy: 0.7989 - val_loss: 0.4314\n",
      "Epoch 24/100\n",
      "\u001b[1m143/143\u001b[0m \u001b[32m━━━━━━━━━━━━━━━━━━━━\u001b[0m\u001b[37m\u001b[0m \u001b[1m0s\u001b[0m 2ms/step - Accuracy: 0.7916 - loss: 0.4514 - val_Accuracy: 0.7989 - val_loss: 0.4313\n",
      "Epoch 25/100\n",
      "\u001b[1m143/143\u001b[0m \u001b[32m━━━━━━━━━━━━━━━━━━━━\u001b[0m\u001b[37m\u001b[0m \u001b[1m0s\u001b[0m 2ms/step - Accuracy: 0.8200 - loss: 0.4212 - val_Accuracy: 0.7989 - val_loss: 0.4312\n",
      "Epoch 26/100\n",
      "\u001b[1m143/143\u001b[0m \u001b[32m━━━━━━━━━━━━━━━━━━━━\u001b[0m\u001b[37m\u001b[0m \u001b[1m0s\u001b[0m 2ms/step - Accuracy: 0.7974 - loss: 0.4371 - val_Accuracy: 0.7933 - val_loss: 0.4315\n",
      "Epoch 27/100\n",
      "\u001b[1m143/143\u001b[0m \u001b[32m━━━━━━━━━━━━━━━━━━━━\u001b[0m\u001b[37m\u001b[0m \u001b[1m0s\u001b[0m 2ms/step - Accuracy: 0.7992 - loss: 0.4503 - val_Accuracy: 0.7989 - val_loss: 0.4319\n",
      "Epoch 28/100\n",
      "\u001b[1m143/143\u001b[0m \u001b[32m━━━━━━━━━━━━━━━━━━━━\u001b[0m\u001b[37m\u001b[0m \u001b[1m0s\u001b[0m 2ms/step - Accuracy: 0.8088 - loss: 0.4312 - val_Accuracy: 0.7989 - val_loss: 0.4318\n",
      "Epoch 29/100\n",
      "\u001b[1m143/143\u001b[0m \u001b[32m━━━━━━━━━━━━━━━━━━━━\u001b[0m\u001b[37m\u001b[0m \u001b[1m0s\u001b[0m 2ms/step - Accuracy: 0.8062 - loss: 0.4471 - val_Accuracy: 0.7989 - val_loss: 0.4323\n",
      "Epoch 30/100\n",
      "\u001b[1m143/143\u001b[0m \u001b[32m━━━━━━━━━━━━━━━━━━━━\u001b[0m\u001b[37m\u001b[0m \u001b[1m0s\u001b[0m 2ms/step - Accuracy: 0.7929 - loss: 0.4651 - val_Accuracy: 0.7989 - val_loss: 0.4324\n",
      "Epoch 31/100\n",
      "\u001b[1m143/143\u001b[0m \u001b[32m━━━━━━━━━━━━━━━━━━━━\u001b[0m\u001b[37m\u001b[0m \u001b[1m0s\u001b[0m 2ms/step - Accuracy: 0.8082 - loss: 0.4407 - val_Accuracy: 0.7989 - val_loss: 0.4330\n",
      "Epoch 32/100\n",
      "\u001b[1m143/143\u001b[0m \u001b[32m━━━━━━━━━━━━━━━━━━━━\u001b[0m\u001b[37m\u001b[0m \u001b[1m0s\u001b[0m 2ms/step - Accuracy: 0.8195 - loss: 0.4274 - val_Accuracy: 0.7989 - val_loss: 0.4331\n",
      "Epoch 33/100\n",
      "\u001b[1m143/143\u001b[0m \u001b[32m━━━━━━━━━━━━━━━━━━━━\u001b[0m\u001b[37m\u001b[0m \u001b[1m0s\u001b[0m 2ms/step - Accuracy: 0.8014 - loss: 0.4637 - val_Accuracy: 0.7989 - val_loss: 0.4358\n",
      "Epoch 34/100\n",
      "\u001b[1m143/143\u001b[0m \u001b[32m━━━━━━━━━━━━━━━━━━━━\u001b[0m\u001b[37m\u001b[0m \u001b[1m0s\u001b[0m 2ms/step - Accuracy: 0.8232 - loss: 0.4298 - val_Accuracy: 0.7989 - val_loss: 0.4355\n",
      "Epoch 35/100\n",
      "\u001b[1m143/143\u001b[0m \u001b[32m━━━━━━━━━━━━━━━━━━━━\u001b[0m\u001b[37m\u001b[0m \u001b[1m0s\u001b[0m 2ms/step - Accuracy: 0.8084 - loss: 0.4286 - val_Accuracy: 0.7989 - val_loss: 0.4339\n",
      "Epoch 36/100\n",
      "\u001b[1m143/143\u001b[0m \u001b[32m━━━━━━━━━━━━━━━━━━━━\u001b[0m\u001b[37m\u001b[0m \u001b[1m0s\u001b[0m 2ms/step - Accuracy: 0.8279 - loss: 0.3854 - val_Accuracy: 0.7989 - val_loss: 0.4360\n",
      "Epoch 37/100\n",
      "\u001b[1m143/143\u001b[0m \u001b[32m━━━━━━━━━━━━━━━━━━━━\u001b[0m\u001b[37m\u001b[0m \u001b[1m0s\u001b[0m 2ms/step - Accuracy: 0.8107 - loss: 0.4221 - val_Accuracy: 0.7933 - val_loss: 0.4373\n",
      "Epoch 38/100\n",
      "\u001b[1m143/143\u001b[0m \u001b[32m━━━━━━━━━━━━━━━━━━━━\u001b[0m\u001b[37m\u001b[0m \u001b[1m0s\u001b[0m 2ms/step - Accuracy: 0.8152 - loss: 0.4127 - val_Accuracy: 0.7989 - val_loss: 0.4373\n",
      "Epoch 39/100\n",
      "\u001b[1m143/143\u001b[0m \u001b[32m━━━━━━━━━━━━━━━━━━━━\u001b[0m\u001b[37m\u001b[0m \u001b[1m0s\u001b[0m 2ms/step - Accuracy: 0.8309 - loss: 0.4018 - val_Accuracy: 0.7989 - val_loss: 0.4373\n",
      "Epoch 40/100\n",
      "\u001b[1m143/143\u001b[0m \u001b[32m━━━━━━━━━━━━━━━━━━━━\u001b[0m\u001b[37m\u001b[0m \u001b[1m0s\u001b[0m 2ms/step - Accuracy: 0.8023 - loss: 0.4251 - val_Accuracy: 0.7933 - val_loss: 0.4377\n",
      "Epoch 41/100\n",
      "\u001b[1m143/143\u001b[0m \u001b[32m━━━━━━━━━━━━━━━━━━━━\u001b[0m\u001b[37m\u001b[0m \u001b[1m0s\u001b[0m 2ms/step - Accuracy: 0.8108 - loss: 0.4442 - val_Accuracy: 0.7933 - val_loss: 0.4371\n",
      "Epoch 42/100\n",
      "\u001b[1m143/143\u001b[0m \u001b[32m━━━━━━━━━━━━━━━━━━━━\u001b[0m\u001b[37m\u001b[0m \u001b[1m0s\u001b[0m 2ms/step - Accuracy: 0.8053 - loss: 0.4344 - val_Accuracy: 0.7933 - val_loss: 0.4369\n",
      "Epoch 43/100\n",
      "\u001b[1m143/143\u001b[0m \u001b[32m━━━━━━━━━━━━━━━━━━━━\u001b[0m\u001b[37m\u001b[0m \u001b[1m0s\u001b[0m 2ms/step - Accuracy: 0.8286 - loss: 0.4023 - val_Accuracy: 0.7989 - val_loss: 0.4366\n",
      "Epoch 44/100\n",
      "\u001b[1m143/143\u001b[0m \u001b[32m━━━━━━━━━━━━━━━━━━━━\u001b[0m\u001b[37m\u001b[0m \u001b[1m0s\u001b[0m 2ms/step - Accuracy: 0.7916 - loss: 0.4469 - val_Accuracy: 0.7877 - val_loss: 0.4378\n",
      "Epoch 45/100\n",
      "\u001b[1m143/143\u001b[0m \u001b[32m━━━━━━━━━━━━━━━━━━━━\u001b[0m\u001b[37m\u001b[0m \u001b[1m0s\u001b[0m 2ms/step - Accuracy: 0.7964 - loss: 0.4425 - val_Accuracy: 0.7877 - val_loss: 0.4382\n",
      "Epoch 46/100\n",
      "\u001b[1m143/143\u001b[0m \u001b[32m━━━━━━━━━━━━━━━━━━━━\u001b[0m\u001b[37m\u001b[0m \u001b[1m0s\u001b[0m 2ms/step - Accuracy: 0.8139 - loss: 0.4217 - val_Accuracy: 0.7933 - val_loss: 0.4385\n",
      "Epoch 47/100\n",
      "\u001b[1m143/143\u001b[0m \u001b[32m━━━━━━━━━━━━━━━━━━━━\u001b[0m\u001b[37m\u001b[0m \u001b[1m0s\u001b[0m 2ms/step - Accuracy: 0.7889 - loss: 0.4443 - val_Accuracy: 0.7821 - val_loss: 0.4384\n",
      "Epoch 48/100\n",
      "\u001b[1m143/143\u001b[0m \u001b[32m━━━━━━━━━━━━━━━━━━━━\u001b[0m\u001b[37m\u001b[0m \u001b[1m0s\u001b[0m 2ms/step - Accuracy: 0.8099 - loss: 0.4504 - val_Accuracy: 0.7989 - val_loss: 0.4386\n",
      "Epoch 49/100\n",
      "\u001b[1m143/143\u001b[0m \u001b[32m━━━━━━━━━━━━━━━━━━━━\u001b[0m\u001b[37m\u001b[0m \u001b[1m0s\u001b[0m 2ms/step - Accuracy: 0.8247 - loss: 0.4065 - val_Accuracy: 0.7821 - val_loss: 0.4369\n",
      "Epoch 50/100\n",
      "\u001b[1m143/143\u001b[0m \u001b[32m━━━━━━━━━━━━━━━━━━━━\u001b[0m\u001b[37m\u001b[0m \u001b[1m0s\u001b[0m 2ms/step - Accuracy: 0.8048 - loss: 0.4325 - val_Accuracy: 0.7821 - val_loss: 0.4379\n",
      "Epoch 51/100\n",
      "\u001b[1m143/143\u001b[0m \u001b[32m━━━━━━━━━━━━━━━━━━━━\u001b[0m\u001b[37m\u001b[0m \u001b[1m0s\u001b[0m 2ms/step - Accuracy: 0.8084 - loss: 0.4364 - val_Accuracy: 0.7821 - val_loss: 0.4384\n",
      "Epoch 52/100\n",
      "\u001b[1m143/143\u001b[0m \u001b[32m━━━━━━━━━━━━━━━━━━━━\u001b[0m\u001b[37m\u001b[0m \u001b[1m0s\u001b[0m 2ms/step - Accuracy: 0.8285 - loss: 0.4064 - val_Accuracy: 0.7877 - val_loss: 0.4374\n",
      "Epoch 53/100\n",
      "\u001b[1m143/143\u001b[0m \u001b[32m━━━━━━━━━━━━━━━━━━━━\u001b[0m\u001b[37m\u001b[0m \u001b[1m0s\u001b[0m 2ms/step - Accuracy: 0.8365 - loss: 0.3808 - val_Accuracy: 0.7877 - val_loss: 0.4375\n",
      "Epoch 54/100\n",
      "\u001b[1m143/143\u001b[0m \u001b[32m━━━━━━━━━━━━━━━━━━━━\u001b[0m\u001b[37m\u001b[0m \u001b[1m0s\u001b[0m 2ms/step - Accuracy: 0.8270 - loss: 0.4062 - val_Accuracy: 0.7877 - val_loss: 0.4374\n",
      "Epoch 55/100\n",
      "\u001b[1m143/143\u001b[0m \u001b[32m━━━━━━━━━━━━━━━━━━━━\u001b[0m\u001b[37m\u001b[0m \u001b[1m0s\u001b[0m 2ms/step - Accuracy: 0.7869 - loss: 0.4602 - val_Accuracy: 0.7877 - val_loss: 0.4386\n",
      "Epoch 56/100\n",
      "\u001b[1m143/143\u001b[0m \u001b[32m━━━━━━━━━━━━━━━━━━━━\u001b[0m\u001b[37m\u001b[0m \u001b[1m0s\u001b[0m 2ms/step - Accuracy: 0.8314 - loss: 0.3928 - val_Accuracy: 0.7933 - val_loss: 0.4367\n",
      "Epoch 57/100\n",
      "\u001b[1m143/143\u001b[0m \u001b[32m━━━━━━━━━━━━━━━━━━━━\u001b[0m\u001b[37m\u001b[0m \u001b[1m0s\u001b[0m 2ms/step - Accuracy: 0.7947 - loss: 0.4475 - val_Accuracy: 0.7989 - val_loss: 0.4366\n",
      "Epoch 58/100\n",
      "\u001b[1m143/143\u001b[0m \u001b[32m━━━━━━━━━━━━━━━━━━━━\u001b[0m\u001b[37m\u001b[0m \u001b[1m0s\u001b[0m 2ms/step - Accuracy: 0.8176 - loss: 0.4126 - val_Accuracy: 0.7989 - val_loss: 0.4368\n",
      "Epoch 59/100\n",
      "\u001b[1m143/143\u001b[0m \u001b[32m━━━━━━━━━━━━━━━━━━━━\u001b[0m\u001b[37m\u001b[0m \u001b[1m0s\u001b[0m 2ms/step - Accuracy: 0.8297 - loss: 0.4161 - val_Accuracy: 0.8045 - val_loss: 0.4381\n",
      "Epoch 60/100\n",
      "\u001b[1m143/143\u001b[0m \u001b[32m━━━━━━━━━━━━━━━━━━━━\u001b[0m\u001b[37m\u001b[0m \u001b[1m0s\u001b[0m 2ms/step - Accuracy: 0.7913 - loss: 0.4589 - val_Accuracy: 0.7933 - val_loss: 0.4349\n",
      "Epoch 61/100\n",
      "\u001b[1m143/143\u001b[0m \u001b[32m━━━━━━━━━━━━━━━━━━━━\u001b[0m\u001b[37m\u001b[0m \u001b[1m0s\u001b[0m 2ms/step - Accuracy: 0.7966 - loss: 0.4422 - val_Accuracy: 0.7933 - val_loss: 0.4355\n",
      "Epoch 62/100\n",
      "\u001b[1m143/143\u001b[0m \u001b[32m━━━━━━━━━━━━━━━━━━━━\u001b[0m\u001b[37m\u001b[0m \u001b[1m0s\u001b[0m 2ms/step - Accuracy: 0.7867 - loss: 0.4640 - val_Accuracy: 0.7989 - val_loss: 0.4369\n",
      "Epoch 63/100\n",
      "\u001b[1m143/143\u001b[0m \u001b[32m━━━━━━━━━━━━━━━━━━━━\u001b[0m\u001b[37m\u001b[0m \u001b[1m0s\u001b[0m 2ms/step - Accuracy: 0.8172 - loss: 0.4123 - val_Accuracy: 0.7877 - val_loss: 0.4364\n",
      "Epoch 64/100\n",
      "\u001b[1m143/143\u001b[0m \u001b[32m━━━━━━━━━━━━━━━━━━━━\u001b[0m\u001b[37m\u001b[0m \u001b[1m0s\u001b[0m 2ms/step - Accuracy: 0.7870 - loss: 0.4591 - val_Accuracy: 0.7933 - val_loss: 0.4377\n",
      "Epoch 65/100\n",
      "\u001b[1m143/143\u001b[0m \u001b[32m━━━━━━━━━━━━━━━━━━━━\u001b[0m\u001b[37m\u001b[0m \u001b[1m0s\u001b[0m 2ms/step - Accuracy: 0.8335 - loss: 0.4102 - val_Accuracy: 0.7933 - val_loss: 0.4372\n",
      "Epoch 66/100\n",
      "\u001b[1m143/143\u001b[0m \u001b[32m━━━━━━━━━━━━━━━━━━━━\u001b[0m\u001b[37m\u001b[0m \u001b[1m0s\u001b[0m 2ms/step - Accuracy: 0.8083 - loss: 0.4416 - val_Accuracy: 0.7877 - val_loss: 0.4369\n",
      "Epoch 67/100\n",
      "\u001b[1m143/143\u001b[0m \u001b[32m━━━━━━━━━━━━━━━━━━━━\u001b[0m\u001b[37m\u001b[0m \u001b[1m0s\u001b[0m 2ms/step - Accuracy: 0.8061 - loss: 0.4349 - val_Accuracy: 0.8045 - val_loss: 0.4372\n",
      "Epoch 68/100\n",
      "\u001b[1m143/143\u001b[0m \u001b[32m━━━━━━━━━━━━━━━━━━━━\u001b[0m\u001b[37m\u001b[0m \u001b[1m0s\u001b[0m 2ms/step - Accuracy: 0.7973 - loss: 0.4370 - val_Accuracy: 0.8045 - val_loss: 0.4365\n",
      "Epoch 69/100\n",
      "\u001b[1m143/143\u001b[0m \u001b[32m━━━━━━━━━━━━━━━━━━━━\u001b[0m\u001b[37m\u001b[0m \u001b[1m0s\u001b[0m 2ms/step - Accuracy: 0.8188 - loss: 0.4215 - val_Accuracy: 0.7933 - val_loss: 0.4371\n",
      "Epoch 70/100\n",
      "\u001b[1m143/143\u001b[0m \u001b[32m━━━━━━━━━━━━━━━━━━━━\u001b[0m\u001b[37m\u001b[0m \u001b[1m0s\u001b[0m 2ms/step - Accuracy: 0.8297 - loss: 0.4258 - val_Accuracy: 0.7877 - val_loss: 0.4359\n",
      "Epoch 71/100\n",
      "\u001b[1m143/143\u001b[0m \u001b[32m━━━━━━━━━━━━━━━━━━━━\u001b[0m\u001b[37m\u001b[0m \u001b[1m0s\u001b[0m 2ms/step - Accuracy: 0.8180 - loss: 0.4159 - val_Accuracy: 0.7877 - val_loss: 0.4369\n",
      "Epoch 72/100\n",
      "\u001b[1m143/143\u001b[0m \u001b[32m━━━━━━━━━━━━━━━━━━━━\u001b[0m\u001b[37m\u001b[0m \u001b[1m0s\u001b[0m 2ms/step - Accuracy: 0.8070 - loss: 0.4203 - val_Accuracy: 0.7933 - val_loss: 0.4353\n",
      "Epoch 73/100\n",
      "\u001b[1m143/143\u001b[0m \u001b[32m━━━━━━━━━━━━━━━━━━━━\u001b[0m\u001b[37m\u001b[0m \u001b[1m0s\u001b[0m 2ms/step - Accuracy: 0.8265 - loss: 0.4086 - val_Accuracy: 0.7877 - val_loss: 0.4360\n",
      "Epoch 74/100\n",
      "\u001b[1m143/143\u001b[0m \u001b[32m━━━━━━━━━━━━━━━━━━━━\u001b[0m\u001b[37m\u001b[0m \u001b[1m0s\u001b[0m 2ms/step - Accuracy: 0.8193 - loss: 0.4154 - val_Accuracy: 0.7877 - val_loss: 0.4377\n",
      "Epoch 75/100\n",
      "\u001b[1m143/143\u001b[0m \u001b[32m━━━━━━━━━━━━━━━━━━━━\u001b[0m\u001b[37m\u001b[0m \u001b[1m0s\u001b[0m 2ms/step - Accuracy: 0.8118 - loss: 0.4147 - val_Accuracy: 0.7877 - val_loss: 0.4365\n",
      "Epoch 76/100\n",
      "\u001b[1m143/143\u001b[0m \u001b[32m━━━━━━━━━━━━━━━━━━━━\u001b[0m\u001b[37m\u001b[0m \u001b[1m0s\u001b[0m 2ms/step - Accuracy: 0.8443 - loss: 0.3908 - val_Accuracy: 0.7877 - val_loss: 0.4366\n",
      "Epoch 77/100\n",
      "\u001b[1m143/143\u001b[0m \u001b[32m━━━━━━━━━━━━━━━━━━━━\u001b[0m\u001b[37m\u001b[0m \u001b[1m0s\u001b[0m 2ms/step - Accuracy: 0.7928 - loss: 0.4514 - val_Accuracy: 0.7933 - val_loss: 0.4370\n",
      "Epoch 78/100\n",
      "\u001b[1m143/143\u001b[0m \u001b[32m━━━━━━━━━━━━━━━━━━━━\u001b[0m\u001b[37m\u001b[0m \u001b[1m0s\u001b[0m 2ms/step - Accuracy: 0.7992 - loss: 0.4397 - val_Accuracy: 0.7877 - val_loss: 0.4365\n",
      "Epoch 79/100\n",
      "\u001b[1m143/143\u001b[0m \u001b[32m━━━━━━━━━━━━━━━━━━━━\u001b[0m\u001b[37m\u001b[0m \u001b[1m0s\u001b[0m 2ms/step - Accuracy: 0.8159 - loss: 0.4093 - val_Accuracy: 0.7933 - val_loss: 0.4363\n",
      "Epoch 80/100\n",
      "\u001b[1m143/143\u001b[0m \u001b[32m━━━━━━━━━━━━━━━━━━━━\u001b[0m\u001b[37m\u001b[0m \u001b[1m0s\u001b[0m 2ms/step - Accuracy: 0.8182 - loss: 0.4280 - val_Accuracy: 0.7989 - val_loss: 0.4367\n",
      "Epoch 81/100\n",
      "\u001b[1m143/143\u001b[0m \u001b[32m━━━━━━━━━━━━━━━━━━━━\u001b[0m\u001b[37m\u001b[0m \u001b[1m0s\u001b[0m 2ms/step - Accuracy: 0.8037 - loss: 0.4493 - val_Accuracy: 0.7933 - val_loss: 0.4376\n",
      "Epoch 82/100\n",
      "\u001b[1m143/143\u001b[0m \u001b[32m━━━━━━━━━━━━━━━━━━━━\u001b[0m\u001b[37m\u001b[0m \u001b[1m0s\u001b[0m 2ms/step - Accuracy: 0.8324 - loss: 0.4002 - val_Accuracy: 0.7933 - val_loss: 0.4358\n",
      "Epoch 83/100\n",
      "\u001b[1m143/143\u001b[0m \u001b[32m━━━━━━━━━━━━━━━━━━━━\u001b[0m\u001b[37m\u001b[0m \u001b[1m0s\u001b[0m 2ms/step - Accuracy: 0.8235 - loss: 0.3913 - val_Accuracy: 0.7877 - val_loss: 0.4360\n",
      "Epoch 84/100\n",
      "\u001b[1m143/143\u001b[0m \u001b[32m━━━━━━━━━━━━━━━━━━━━\u001b[0m\u001b[37m\u001b[0m \u001b[1m0s\u001b[0m 2ms/step - Accuracy: 0.8129 - loss: 0.4263 - val_Accuracy: 0.7877 - val_loss: 0.4360\n",
      "Epoch 85/100\n",
      "\u001b[1m143/143\u001b[0m \u001b[32m━━━━━━━━━━━━━━━━━━━━\u001b[0m\u001b[37m\u001b[0m \u001b[1m0s\u001b[0m 2ms/step - Accuracy: 0.8172 - loss: 0.4094 - val_Accuracy: 0.7877 - val_loss: 0.4359\n",
      "Epoch 86/100\n",
      "\u001b[1m143/143\u001b[0m \u001b[32m━━━━━━━━━━━━━━━━━━━━\u001b[0m\u001b[37m\u001b[0m \u001b[1m0s\u001b[0m 2ms/step - Accuracy: 0.8292 - loss: 0.4076 - val_Accuracy: 0.7989 - val_loss: 0.4361\n",
      "Epoch 87/100\n",
      "\u001b[1m143/143\u001b[0m \u001b[32m━━━━━━━━━━━━━━━━━━━━\u001b[0m\u001b[37m\u001b[0m \u001b[1m0s\u001b[0m 2ms/step - Accuracy: 0.8165 - loss: 0.4262 - val_Accuracy: 0.7989 - val_loss: 0.4349\n",
      "Epoch 88/100\n",
      "\u001b[1m143/143\u001b[0m \u001b[32m━━━━━━━━━━━━━━━━━━━━\u001b[0m\u001b[37m\u001b[0m \u001b[1m0s\u001b[0m 2ms/step - Accuracy: 0.8233 - loss: 0.3803 - val_Accuracy: 0.7989 - val_loss: 0.4346\n",
      "Epoch 89/100\n",
      "\u001b[1m143/143\u001b[0m \u001b[32m━━━━━━━━━━━━━━━━━━━━\u001b[0m\u001b[37m\u001b[0m \u001b[1m0s\u001b[0m 2ms/step - Accuracy: 0.8247 - loss: 0.3979 - val_Accuracy: 0.7877 - val_loss: 0.4369\n",
      "Epoch 90/100\n",
      "\u001b[1m143/143\u001b[0m \u001b[32m━━━━━━━━━━━━━━━━━━━━\u001b[0m\u001b[37m\u001b[0m \u001b[1m0s\u001b[0m 2ms/step - Accuracy: 0.8259 - loss: 0.3941 - val_Accuracy: 0.8045 - val_loss: 0.4352\n",
      "Epoch 91/100\n",
      "\u001b[1m143/143\u001b[0m \u001b[32m━━━━━━━━━━━━━━━━━━━━\u001b[0m\u001b[37m\u001b[0m \u001b[1m0s\u001b[0m 2ms/step - Accuracy: 0.8284 - loss: 0.3846 - val_Accuracy: 0.7877 - val_loss: 0.4360\n",
      "Epoch 92/100\n",
      "\u001b[1m143/143\u001b[0m \u001b[32m━━━━━━━━━━━━━━━━━━━━\u001b[0m\u001b[37m\u001b[0m \u001b[1m0s\u001b[0m 2ms/step - Accuracy: 0.8277 - loss: 0.3970 - val_Accuracy: 0.8045 - val_loss: 0.4366\n",
      "Epoch 93/100\n",
      "\u001b[1m143/143\u001b[0m \u001b[32m━━━━━━━━━━━━━━━━━━━━\u001b[0m\u001b[37m\u001b[0m \u001b[1m0s\u001b[0m 2ms/step - Accuracy: 0.7921 - loss: 0.4212 - val_Accuracy: 0.7989 - val_loss: 0.4353\n",
      "Epoch 94/100\n",
      "\u001b[1m143/143\u001b[0m \u001b[32m━━━━━━━━━━━━━━━━━━━━\u001b[0m\u001b[37m\u001b[0m \u001b[1m0s\u001b[0m 2ms/step - Accuracy: 0.8401 - loss: 0.3626 - val_Accuracy: 0.7877 - val_loss: 0.4352\n",
      "Epoch 95/100\n",
      "\u001b[1m143/143\u001b[0m \u001b[32m━━━━━━━━━━━━━━━━━━━━\u001b[0m\u001b[37m\u001b[0m \u001b[1m0s\u001b[0m 2ms/step - Accuracy: 0.8097 - loss: 0.4296 - val_Accuracy: 0.7877 - val_loss: 0.4360\n",
      "Epoch 96/100\n",
      "\u001b[1m143/143\u001b[0m \u001b[32m━━━━━━━━━━━━━━━━━━━━\u001b[0m\u001b[37m\u001b[0m \u001b[1m0s\u001b[0m 2ms/step - Accuracy: 0.8139 - loss: 0.4253 - val_Accuracy: 0.7933 - val_loss: 0.4360\n",
      "Epoch 97/100\n",
      "\u001b[1m143/143\u001b[0m \u001b[32m━━━━━━━━━━━━━━━━━━━━\u001b[0m\u001b[37m\u001b[0m \u001b[1m0s\u001b[0m 2ms/step - Accuracy: 0.8463 - loss: 0.3673 - val_Accuracy: 0.7989 - val_loss: 0.4346\n",
      "Epoch 98/100\n",
      "\u001b[1m143/143\u001b[0m \u001b[32m━━━━━━━━━━━━━━━━━━━━\u001b[0m\u001b[37m\u001b[0m \u001b[1m0s\u001b[0m 2ms/step - Accuracy: 0.8216 - loss: 0.4105 - val_Accuracy: 0.7933 - val_loss: 0.4356\n",
      "Epoch 99/100\n",
      "\u001b[1m143/143\u001b[0m \u001b[32m━━━━━━━━━━━━━━━━━━━━\u001b[0m\u001b[37m\u001b[0m \u001b[1m0s\u001b[0m 2ms/step - Accuracy: 0.8222 - loss: 0.3920 - val_Accuracy: 0.7933 - val_loss: 0.4348\n",
      "Epoch 100/100\n",
      "\u001b[1m143/143\u001b[0m \u001b[32m━━━━━━━━━━━━━━━━━━━━\u001b[0m\u001b[37m\u001b[0m \u001b[1m0s\u001b[0m 2ms/step - Accuracy: 0.8227 - loss: 0.4029 - val_Accuracy: 0.7989 - val_loss: 0.4361\n"
     ]
    },
    {
     "data": {
      "text/plain": [
       "<keras.src.callbacks.history.History at 0x7b210ee78e50>"
      ]
     },
     "execution_count": 12,
     "metadata": {},
     "output_type": "execute_result"
    }
   ],
   "source": [
    "model.fit(x=X_train, y=y_train, epochs=100, batch_size=5, validation_data=(X_test,y_test),verbose=1)"
   ]
  },
  {
   "cell_type": "markdown",
   "id": "803c8867",
   "metadata": {
    "papermill": {
     "duration": 0.037863,
     "end_time": "2025-04-12T11:22:07.184009",
     "exception": false,
     "start_time": "2025-04-12T11:22:07.146146",
     "status": "completed"
    },
    "tags": []
   },
   "source": [
    "### Loss"
   ]
  },
  {
   "cell_type": "code",
   "execution_count": 13,
   "id": "bba9c434",
   "metadata": {
    "execution": {
     "iopub.execute_input": "2025-04-12T11:22:07.261322Z",
     "iopub.status.busy": "2025-04-12T11:22:07.260921Z",
     "iopub.status.idle": "2025-04-12T11:22:07.271803Z",
     "shell.execute_reply": "2025-04-12T11:22:07.270958Z"
    },
    "papermill": {
     "duration": 0.05112,
     "end_time": "2025-04-12T11:22:07.273297",
     "exception": false,
     "start_time": "2025-04-12T11:22:07.222177",
     "status": "completed"
    },
    "tags": []
   },
   "outputs": [
    {
     "data": {
      "text/html": [
       "<div>\n",
       "<style scoped>\n",
       "    .dataframe tbody tr th:only-of-type {\n",
       "        vertical-align: middle;\n",
       "    }\n",
       "\n",
       "    .dataframe tbody tr th {\n",
       "        vertical-align: top;\n",
       "    }\n",
       "\n",
       "    .dataframe thead th {\n",
       "        text-align: right;\n",
       "    }\n",
       "</style>\n",
       "<table border=\"1\" class=\"dataframe\">\n",
       "  <thead>\n",
       "    <tr style=\"text-align: right;\">\n",
       "      <th></th>\n",
       "      <th>Accuracy</th>\n",
       "      <th>loss</th>\n",
       "      <th>val_Accuracy</th>\n",
       "      <th>val_loss</th>\n",
       "    </tr>\n",
       "  </thead>\n",
       "  <tbody>\n",
       "    <tr>\n",
       "      <th>0</th>\n",
       "      <td>0.610955</td>\n",
       "      <td>0.678722</td>\n",
       "      <td>0.586592</td>\n",
       "      <td>0.666820</td>\n",
       "    </tr>\n",
       "    <tr>\n",
       "      <th>1</th>\n",
       "      <td>0.640449</td>\n",
       "      <td>0.647784</td>\n",
       "      <td>0.592179</td>\n",
       "      <td>0.639130</td>\n",
       "    </tr>\n",
       "    <tr>\n",
       "      <th>2</th>\n",
       "      <td>0.675562</td>\n",
       "      <td>0.617615</td>\n",
       "      <td>0.659218</td>\n",
       "      <td>0.609243</td>\n",
       "    </tr>\n",
       "    <tr>\n",
       "      <th>3</th>\n",
       "      <td>0.712079</td>\n",
       "      <td>0.586482</td>\n",
       "      <td>0.670391</td>\n",
       "      <td>0.571884</td>\n",
       "    </tr>\n",
       "    <tr>\n",
       "      <th>4</th>\n",
       "      <td>0.737360</td>\n",
       "      <td>0.551116</td>\n",
       "      <td>0.709497</td>\n",
       "      <td>0.531508</td>\n",
       "    </tr>\n",
       "  </tbody>\n",
       "</table>\n",
       "</div>"
      ],
      "text/plain": [
       "   Accuracy      loss  val_Accuracy  val_loss\n",
       "0  0.610955  0.678722      0.586592  0.666820\n",
       "1  0.640449  0.647784      0.592179  0.639130\n",
       "2  0.675562  0.617615      0.659218  0.609243\n",
       "3  0.712079  0.586482      0.670391  0.571884\n",
       "4  0.737360  0.551116      0.709497  0.531508"
      ]
     },
     "execution_count": 13,
     "metadata": {},
     "output_type": "execute_result"
    }
   ],
   "source": [
    "history = pd.DataFrame(model.history.history)\n",
    "history.head()"
   ]
  },
  {
   "cell_type": "code",
   "execution_count": 14,
   "id": "2e7c12d9",
   "metadata": {
    "execution": {
     "iopub.execute_input": "2025-04-12T11:22:07.351132Z",
     "iopub.status.busy": "2025-04-12T11:22:07.350799Z",
     "iopub.status.idle": "2025-04-12T11:22:07.636811Z",
     "shell.execute_reply": "2025-04-12T11:22:07.635828Z"
    },
    "papermill": {
     "duration": 0.326561,
     "end_time": "2025-04-12T11:22:07.638492",
     "exception": false,
     "start_time": "2025-04-12T11:22:07.311931",
     "status": "completed"
    },
    "tags": []
   },
   "outputs": [
    {
     "data": {
      "image/png": "[encoded data removed]",
      "text/plain": [
       "<Figure size 640x480 with 1 Axes>"
      ]
     },
     "metadata": {},
     "output_type": "display_data"
    }
   ],
   "source": [
    "import matplotlib.pyplot as plt\n",
    "\n",
    "plt.plot(history['loss'], label='Training Loss')\n",
    "plt.plot(history['val_loss'], label='Validation Loss')\n",
    "plt.title('Model Loss Over Epochs')\n",
    "plt.xlabel('Epoch')\n",
    "plt.ylabel('Loss')\n",
    "plt.legend()\n",
    "plt.grid(True)\n",
    "plt.show()"
   ]
  },
  {
   "cell_type": "markdown",
   "id": "1b7deadf",
   "metadata": {
    "papermill": {
     "duration": 0.038548,
     "end_time": "2025-04-12T11:22:07.716292",
     "exception": false,
     "start_time": "2025-04-12T11:22:07.677744",
     "status": "completed"
    },
    "tags": []
   },
   "source": [
    "### Accuracy"
   ]
  },
  {
   "cell_type": "code",
   "execution_count": 15,
   "id": "8b22c964",
   "metadata": {
    "execution": {
     "iopub.execute_input": "2025-04-12T11:22:07.795847Z",
     "iopub.status.busy": "2025-04-12T11:22:07.795496Z",
     "iopub.status.idle": "2025-04-12T11:22:08.004291Z",
     "shell.execute_reply": "2025-04-12T11:22:08.003277Z"
    },
    "papermill": {
     "duration": 0.25065,
     "end_time": "2025-04-12T11:22:08.005856",
     "exception": false,
     "start_time": "2025-04-12T11:22:07.755206",
     "status": "completed"
    },
    "tags": []
   },
   "outputs": [
    {
     "data": {
      "image/png": "[encoded data removed]",
      "text/plain": [
       "<Figure size 640x480 with 1 Axes>"
      ]
     },
     "metadata": {},
     "output_type": "display_data"
    }
   ],
   "source": [
    "plt.plot(history['Accuracy'], label='Training Accuracy')\n",
    "plt.plot(history['val_Accuracy'], label='Validation Accuracy')\n",
    "plt.title('Model Accuracy Over Epochs')\n",
    "plt.xlabel('Epoch')\n",
    "plt.ylabel('Accuracy')\n",
    "plt.legend()\n",
    "plt.grid(True)\n",
    "plt.show()"
   ]
  },
  {
   "cell_type": "markdown",
   "id": "d8909f8e",
   "metadata": {
    "papermill": {
     "duration": 0.03946,
     "end_time": "2025-04-12T11:22:08.085849",
     "exception": false,
     "start_time": "2025-04-12T11:22:08.046389",
     "status": "completed"
    },
    "tags": []
   },
   "source": [
    "## Prediction From Test Data"
   ]
  },
  {
   "cell_type": "markdown",
   "id": "c08a1afb",
   "metadata": {
    "papermill": {
     "duration": 0.039772,
     "end_time": "2025-04-12T11:22:08.165459",
     "exception": false,
     "start_time": "2025-04-12T11:22:08.125687",
     "status": "completed"
    },
    "tags": []
   },
   "source": [
    "### Test Data Preprocessing"
   ]
  },
  {
   "cell_type": "code",
   "execution_count": 16,
   "id": "52c65f6b",
   "metadata": {
    "execution": {
     "iopub.execute_input": "2025-04-12T11:22:08.247635Z",
     "iopub.status.busy": "2025-04-12T11:22:08.247304Z",
     "iopub.status.idle": "2025-04-12T11:22:08.254348Z",
     "shell.execute_reply": "2025-04-12T11:22:08.253497Z"
    },
    "papermill": {
     "duration": 0.049539,
     "end_time": "2025-04-12T11:22:08.255698",
     "exception": false,
     "start_time": "2025-04-12T11:22:08.206159",
     "status": "completed"
    },
    "tags": []
   },
   "outputs": [
    {
     "data": {
      "text/plain": [
       "PassengerId      0\n",
       "Pclass           0\n",
       "Name             0\n",
       "Sex              0\n",
       "Age             86\n",
       "SibSp            0\n",
       "Parch            0\n",
       "Ticket           0\n",
       "Fare             1\n",
       "Cabin          327\n",
       "Embarked         0\n",
       "dtype: int64"
      ]
     },
     "execution_count": 16,
     "metadata": {},
     "output_type": "execute_result"
    }
   ],
   "source": [
    "test_data.isna().sum()"
   ]
  },
  {
   "cell_type": "code",
   "execution_count": 17,
   "id": "22a5b43c",
   "metadata": {
    "execution": {
     "iopub.execute_input": "2025-04-12T11:22:08.337816Z",
     "iopub.status.busy": "2025-04-12T11:22:08.337499Z",
     "iopub.status.idle": "2025-04-12T11:22:08.344565Z",
     "shell.execute_reply": "2025-04-12T11:22:08.343762Z"
    },
    "papermill": {
     "duration": 0.049675,
     "end_time": "2025-04-12T11:22:08.346112",
     "exception": false,
     "start_time": "2025-04-12T11:22:08.296437",
     "status": "completed"
    },
    "tags": []
   },
   "outputs": [],
   "source": [
    "test_data['Age'] = test_data['Age'].fillna(test_data['Age'].median())\n",
    "test_data['Fare'] = test_data['Fare'].fillna(test_data['Fare'].median())\n",
    "test_data['Sex'] = test_data['Sex'].map({'male': 0, 'female': 1}).astype(np.float32)"
   ]
  },
  {
   "cell_type": "code",
   "execution_count": 18,
   "id": "01bffaef",
   "metadata": {
    "execution": {
     "iopub.execute_input": "2025-04-12T11:22:08.430297Z",
     "iopub.status.busy": "2025-04-12T11:22:08.429907Z",
     "iopub.status.idle": "2025-04-12T11:22:08.435464Z",
     "shell.execute_reply": "2025-04-12T11:22:08.434687Z"
    },
    "papermill": {
     "duration": 0.049162,
     "end_time": "2025-04-12T11:22:08.436827",
     "exception": false,
     "start_time": "2025-04-12T11:22:08.387665",
     "status": "completed"
    },
    "tags": []
   },
   "outputs": [],
   "source": [
    "X_feature = test_data[['Pclass','Sex','Age','SibSp','Parch','Fare']].values.astype(np.float32)"
   ]
  },
  {
   "cell_type": "code",
   "execution_count": 19,
   "id": "4de2239a",
   "metadata": {
    "execution": {
     "iopub.execute_input": "2025-04-12T11:22:08.517913Z",
     "iopub.status.busy": "2025-04-12T11:22:08.517592Z",
     "iopub.status.idle": "2025-04-12T11:22:08.521867Z",
     "shell.execute_reply": "2025-04-12T11:22:08.521019Z"
    },
    "papermill": {
     "duration": 0.046471,
     "end_time": "2025-04-12T11:22:08.523264",
     "exception": false,
     "start_time": "2025-04-12T11:22:08.476793",
     "status": "completed"
    },
    "tags": []
   },
   "outputs": [],
   "source": [
    "X_feature_scaled = scaler.transform(X_feature)"
   ]
  },
  {
   "cell_type": "markdown",
   "id": "ac600320",
   "metadata": {
    "papermill": {
     "duration": 0.039927,
     "end_time": "2025-04-12T11:22:08.659407",
     "exception": false,
     "start_time": "2025-04-12T11:22:08.619480",
     "status": "completed"
    },
    "tags": []
   },
   "source": [
    "### Prediction"
   ]
  },
  {
   "cell_type": "code",
   "execution_count": 20,
   "id": "6cf130d7",
   "metadata": {
    "execution": {
     "iopub.execute_input": "2025-04-12T11:22:08.741185Z",
     "iopub.status.busy": "2025-04-12T11:22:08.740864Z",
     "iopub.status.idle": "2025-04-12T11:22:08.912632Z",
     "shell.execute_reply": "2025-04-12T11:22:08.911716Z"
    },
    "papermill": {
     "duration": 0.214433,
     "end_time": "2025-04-12T11:22:08.914308",
     "exception": false,
     "start_time": "2025-04-12T11:22:08.699875",
     "status": "completed"
    },
    "tags": []
   },
   "outputs": [
    {
     "name": "stdout",
     "output_type": "stream",
     "text": [
      "\u001b[1m14/14\u001b[0m \u001b[32m━━━━━━━━━━━━━━━━━━━━\u001b[0m\u001b[37m\u001b[0m \u001b[1m0s\u001b[0m 4ms/step\n"
     ]
    }
   ],
   "source": [
    "pred_prob = model.predict(X_feature_scaled)\n",
    "predictions = (pred_prob > 0.5).astype(int).reshape(-1)"
   ]
  },
  {
   "cell_type": "code",
   "execution_count": 21,
   "id": "d32d0c8b",
   "metadata": {
    "execution": {
     "iopub.execute_input": "2025-04-12T11:22:08.995960Z",
     "iopub.status.busy": "2025-04-12T11:22:08.995630Z",
     "iopub.status.idle": "2025-04-12T11:22:09.006547Z",
     "shell.execute_reply": "2025-04-12T11:22:09.005350Z"
    },
    "papermill": {
     "duration": 0.053488,
     "end_time": "2025-04-12T11:22:09.008127",
     "exception": false,
     "start_time": "2025-04-12T11:22:08.954639",
     "status": "completed"
    },
    "tags": []
   },
   "outputs": [
    {
     "name": "stdout",
     "output_type": "stream",
     "text": [
      "✅ 'titanic_submission.csv' has created\n"
     ]
    }
   ],
   "source": [
    "submission_df = pd.DataFrame({\n",
    "    'PassengerId': test_data['PassengerId'],\n",
    "    'Survived': predictions\n",
    "})\n",
    "\n",
    "# Read to CSV\n",
    "submission_df.to_csv('titanic_submission.csv', index=False)\n",
    "print(\"✅ 'titanic_submission.csv' has created\")"
   ]
  }
 ],
 "metadata": {
  "kaggle": {
   "accelerator": "none",
   "dataSources": [
    {
     "databundleVersionId": 26502,
     "sourceId": 3136,
     "sourceType": "competition"
    }
   ],
   "dockerImageVersionId": 30918,
   "isGpuEnabled": false,
   "isInternetEnabled": true,
   "language": "python",
   "sourceType": "notebook"
  },
  "kernelspec": {
   "display_name": "Python 3",
   "language": "python",
   "name": "python3"
  },
  "language_info": {
   "codemirror_mode": {
    "name": "ipython",
    "version": 3
   },
   "file_extension": ".py",
   "mimetype": "text/x-python",
   "name": "python",
   "nbconvert_exporter": "python",
   "pygments_lexer": "ipython3",
   "version": "3.12.4"
  },
  "papermill": {
   "default_parameters": {},
   "duration": 51.966189,
   "end_time": "2025-04-12T11:22:11.430057",
   "environment_variables": {},
   "exception": null,
   "input_path": "__notebook__.ipynb",
   "output_path": "__notebook__.ipynb",
   "parameters": {},
   "start_time": "2025-04-12T11:21:19.463868",
   "version": "2.6.0"
  }
 },
 "nbformat": 4,
 "nbformat_minor": 5
}
